{
 "cells": [
  {
   "cell_type": "markdown",
   "id": "2a36fb38",
   "metadata": {
    "papermill": {
     "duration": 0.008904,
     "end_time": "2025-01-24T23:39:16.538348",
     "exception": false,
     "start_time": "2025-01-24T23:39:16.529444",
     "status": "completed"
    },
    "tags": []
   },
   "source": [
    "First of all, I want to leave some comments on this dataset. It contains 34 columns with around 150.000 values, which is pretty comprehensive. However, the dataset needs more cleansing to become usable for me because it has missing values, outliers, and unnecessary features. Based on my understanding, I will carefully consider and conduct the cleasing with clear explanations for you."
   ]
  },
  {
   "cell_type": "code",
   "execution_count": 1,
   "id": "3da1f6a2",
   "metadata": {
    "execution": {
     "iopub.execute_input": "2025-01-24T23:39:16.556645Z",
     "iopub.status.busy": "2025-01-24T23:39:16.556231Z",
     "iopub.status.idle": "2025-01-24T23:39:16.561724Z",
     "shell.execute_reply": "2025-01-24T23:39:16.560915Z"
    },
    "papermill": {
     "duration": 0.01626,
     "end_time": "2025-01-24T23:39:16.563145",
     "exception": false,
     "start_time": "2025-01-24T23:39:16.546885",
     "status": "completed"
    },
    "tags": []
   },
   "outputs": [],
   "source": [
    "# Import InteractiveShell to see all of the outcomes\n",
    "from IPython.core.interactiveshell import InteractiveShell\n",
    "InteractiveShell.ast_node_interactivity = 'all'"
   ]
  },
  {
   "cell_type": "code",
   "execution_count": 2,
   "id": "fdfdfe98",
   "metadata": {
    "execution": {
     "iopub.execute_input": "2025-01-24T23:39:16.580738Z",
     "iopub.status.busy": "2025-01-24T23:39:16.580369Z",
     "iopub.status.idle": "2025-01-24T23:39:19.074588Z",
     "shell.execute_reply": "2025-01-24T23:39:19.073684Z"
    },
    "papermill": {
     "duration": 2.504965,
     "end_time": "2025-01-24T23:39:19.076374",
     "exception": false,
     "start_time": "2025-01-24T23:39:16.571409",
     "status": "completed"
    },
    "tags": []
   },
   "outputs": [],
   "source": [
    "# Import necessary libraries\n",
    "import pandas as pd\n",
    "import numpy as np\n",
    "import matplotlib.pyplot as plt\n",
    "from statistics import mode\n",
    "from pandas.plotting import scatter_matrix\n",
    "from sklearn.model_selection import train_test_split, cross_val_score\n",
    "from sklearn.pipeline import Pipeline\n",
    "from sklearn.impute import SimpleImputer\n",
    "from sklearn.preprocessing import OneHotEncoder\n",
    "from sklearn.compose import ColumnTransformer\n",
    "from sklearn.linear_model import LogisticRegression\n",
    "from sklearn.neighbors import KNeighborsClassifier\n",
    "from sklearn.tree import DecisionTreeClassifier\n",
    "from sklearn.ensemble import RandomForestClassifier\n",
    "from sklearn.preprocessing import StandardScaler, MinMaxScaler\n",
    "from sklearn.metrics import accuracy_score, confusion_matrix, classification_report, roc_auc_score, roc_curve, auc"
   ]
  },
  {
   "cell_type": "code",
   "execution_count": 3,
   "id": "964676fd",
   "metadata": {
    "_cell_guid": "b1076dfc-b9ad-4769-8c92-a6c4dae69d19",
    "_uuid": "8f2839f25d086af736a60e9eeb907d3b93b6e0e5",
    "execution": {
     "iopub.execute_input": "2025-01-24T23:39:19.094992Z",
     "iopub.status.busy": "2025-01-24T23:39:19.094453Z",
     "iopub.status.idle": "2025-01-24T23:39:19.098420Z",
     "shell.execute_reply": "2025-01-24T23:39:19.097652Z"
    },
    "papermill": {
     "duration": 0.014628,
     "end_time": "2025-01-24T23:39:19.099729",
     "exception": false,
     "start_time": "2025-01-24T23:39:19.085101",
     "status": "completed"
    },
    "tags": []
   },
   "outputs": [],
   "source": [
    "# Ignore all the warnings\n",
    "import warnings\n",
    "warnings.filterwarnings('ignore')"
   ]
  },
  {
   "cell_type": "code",
   "execution_count": 4,
   "id": "6fb389cd",
   "metadata": {
    "execution": {
     "iopub.execute_input": "2025-01-24T23:39:19.117083Z",
     "iopub.status.busy": "2025-01-24T23:39:19.116749Z",
     "iopub.status.idle": "2025-01-24T23:39:20.034860Z",
     "shell.execute_reply": "2025-01-24T23:39:20.033881Z"
    },
    "papermill": {
     "duration": 0.928821,
     "end_time": "2025-01-24T23:39:20.036731",
     "exception": false,
     "start_time": "2025-01-24T23:39:19.107910",
     "status": "completed"
    },
    "tags": []
   },
   "outputs": [],
   "source": [
    "# Load the dataset\n",
    "loandef = pd.read_csv('/kaggle/input/loan-default-dataset/Loan_Default.csv')"
   ]
  },
  {
   "cell_type": "markdown",
   "id": "225982f2",
   "metadata": {
    "papermill": {
     "duration": 0.007797,
     "end_time": "2025-01-24T23:39:20.053021",
     "exception": false,
     "start_time": "2025-01-24T23:39:20.045224",
     "status": "completed"
    },
    "tags": []
   },
   "source": [
    "**I. DATA OVERVIEW AND PRELIMINARY CLEANSING**\n",
    "\n",
    "It's always important to take a look at the data before jumping into the analyzing process. Also, as I mentioned before, I will have something to do to clean this data before I can really use it."
   ]
  },
  {
   "cell_type": "code",
   "execution_count": 5,
   "id": "1814f83b",
   "metadata": {
    "execution": {
     "iopub.execute_input": "2025-01-24T23:39:20.070513Z",
     "iopub.status.busy": "2025-01-24T23:39:20.070152Z",
     "iopub.status.idle": "2025-01-24T23:39:20.111871Z",
     "shell.execute_reply": "2025-01-24T23:39:20.110980Z"
    },
    "papermill": {
     "duration": 0.052712,
     "end_time": "2025-01-24T23:39:20.113836",
     "exception": false,
     "start_time": "2025-01-24T23:39:20.061124",
     "status": "completed"
    },
    "tags": []
   },
   "outputs": [],
   "source": [
    "# Drop all of the columns that I'm not going to use\n",
    "loandef = loandef[['loan_limit', 'Gender', 'approv_in_adv', 'loan_type', 'loan_purpose', 'Credit_Worthiness', 'business_or_commercial', 'loan_amount', 'rate_of_interest', 'Interest_rate_spread', 'Upfront_charges', 'term', 'property_value', 'income', 'credit_type', 'Credit_Score', 'age', 'Region', 'Status']]"
   ]
  },
  {
   "cell_type": "code",
   "execution_count": 6,
   "id": "df25863d",
   "metadata": {
    "execution": {
     "iopub.execute_input": "2025-01-24T23:39:20.131983Z",
     "iopub.status.busy": "2025-01-24T23:39:20.131596Z",
     "iopub.status.idle": "2025-01-24T23:39:20.171640Z",
     "shell.execute_reply": "2025-01-24T23:39:20.170538Z"
    },
    "papermill": {
     "duration": 0.050707,
     "end_time": "2025-01-24T23:39:20.173168",
     "exception": false,
     "start_time": "2025-01-24T23:39:20.122461",
     "status": "completed"
    },
    "tags": []
   },
   "outputs": [
    {
     "data": {
      "text/html": [
       "<div>\n",
       "<style scoped>\n",
       "    .dataframe tbody tr th:only-of-type {\n",
       "        vertical-align: middle;\n",
       "    }\n",
       "\n",
       "    .dataframe tbody tr th {\n",
       "        vertical-align: top;\n",
       "    }\n",
       "\n",
       "    .dataframe thead th {\n",
       "        text-align: right;\n",
       "    }\n",
       "</style>\n",
       "<table border=\"1\" class=\"dataframe\">\n",
       "  <thead>\n",
       "    <tr style=\"text-align: right;\">\n",
       "      <th></th>\n",
       "      <th>loan_limit</th>\n",
       "      <th>Gender</th>\n",
       "      <th>approv_in_adv</th>\n",
       "      <th>loan_type</th>\n",
       "      <th>loan_purpose</th>\n",
       "      <th>Credit_Worthiness</th>\n",
       "      <th>business_or_commercial</th>\n",
       "      <th>loan_amount</th>\n",
       "      <th>rate_of_interest</th>\n",
       "      <th>Interest_rate_spread</th>\n",
       "      <th>Upfront_charges</th>\n",
       "      <th>term</th>\n",
       "      <th>property_value</th>\n",
       "      <th>income</th>\n",
       "      <th>credit_type</th>\n",
       "      <th>Credit_Score</th>\n",
       "      <th>age</th>\n",
       "      <th>Region</th>\n",
       "      <th>Status</th>\n",
       "    </tr>\n",
       "  </thead>\n",
       "  <tbody>\n",
       "    <tr>\n",
       "      <th>0</th>\n",
       "      <td>cf</td>\n",
       "      <td>Sex Not Available</td>\n",
       "      <td>nopre</td>\n",
       "      <td>type1</td>\n",
       "      <td>p1</td>\n",
       "      <td>l1</td>\n",
       "      <td>nob/c</td>\n",
       "      <td>116500</td>\n",
       "      <td>NaN</td>\n",
       "      <td>NaN</td>\n",
       "      <td>NaN</td>\n",
       "      <td>360.0</td>\n",
       "      <td>118000.0</td>\n",
       "      <td>1740.0</td>\n",
       "      <td>EXP</td>\n",
       "      <td>758</td>\n",
       "      <td>25-34</td>\n",
       "      <td>south</td>\n",
       "      <td>1</td>\n",
       "    </tr>\n",
       "    <tr>\n",
       "      <th>1</th>\n",
       "      <td>cf</td>\n",
       "      <td>Male</td>\n",
       "      <td>nopre</td>\n",
       "      <td>type2</td>\n",
       "      <td>p1</td>\n",
       "      <td>l1</td>\n",
       "      <td>b/c</td>\n",
       "      <td>206500</td>\n",
       "      <td>NaN</td>\n",
       "      <td>NaN</td>\n",
       "      <td>NaN</td>\n",
       "      <td>360.0</td>\n",
       "      <td>NaN</td>\n",
       "      <td>4980.0</td>\n",
       "      <td>EQUI</td>\n",
       "      <td>552</td>\n",
       "      <td>55-64</td>\n",
       "      <td>North</td>\n",
       "      <td>1</td>\n",
       "    </tr>\n",
       "    <tr>\n",
       "      <th>2</th>\n",
       "      <td>cf</td>\n",
       "      <td>Male</td>\n",
       "      <td>pre</td>\n",
       "      <td>type1</td>\n",
       "      <td>p1</td>\n",
       "      <td>l1</td>\n",
       "      <td>nob/c</td>\n",
       "      <td>406500</td>\n",
       "      <td>4.56</td>\n",
       "      <td>0.2000</td>\n",
       "      <td>595.0</td>\n",
       "      <td>360.0</td>\n",
       "      <td>508000.0</td>\n",
       "      <td>9480.0</td>\n",
       "      <td>EXP</td>\n",
       "      <td>834</td>\n",
       "      <td>35-44</td>\n",
       "      <td>south</td>\n",
       "      <td>0</td>\n",
       "    </tr>\n",
       "    <tr>\n",
       "      <th>3</th>\n",
       "      <td>cf</td>\n",
       "      <td>Male</td>\n",
       "      <td>nopre</td>\n",
       "      <td>type1</td>\n",
       "      <td>p4</td>\n",
       "      <td>l1</td>\n",
       "      <td>nob/c</td>\n",
       "      <td>456500</td>\n",
       "      <td>4.25</td>\n",
       "      <td>0.6810</td>\n",
       "      <td>NaN</td>\n",
       "      <td>360.0</td>\n",
       "      <td>658000.0</td>\n",
       "      <td>11880.0</td>\n",
       "      <td>EXP</td>\n",
       "      <td>587</td>\n",
       "      <td>45-54</td>\n",
       "      <td>North</td>\n",
       "      <td>0</td>\n",
       "    </tr>\n",
       "    <tr>\n",
       "      <th>4</th>\n",
       "      <td>cf</td>\n",
       "      <td>Joint</td>\n",
       "      <td>pre</td>\n",
       "      <td>type1</td>\n",
       "      <td>p1</td>\n",
       "      <td>l1</td>\n",
       "      <td>nob/c</td>\n",
       "      <td>696500</td>\n",
       "      <td>4.00</td>\n",
       "      <td>0.3042</td>\n",
       "      <td>0.0</td>\n",
       "      <td>360.0</td>\n",
       "      <td>758000.0</td>\n",
       "      <td>10440.0</td>\n",
       "      <td>CRIF</td>\n",
       "      <td>602</td>\n",
       "      <td>25-34</td>\n",
       "      <td>North</td>\n",
       "      <td>0</td>\n",
       "    </tr>\n",
       "  </tbody>\n",
       "</table>\n",
       "</div>"
      ],
      "text/plain": [
       "  loan_limit             Gender approv_in_adv loan_type loan_purpose  \\\n",
       "0         cf  Sex Not Available         nopre     type1           p1   \n",
       "1         cf               Male         nopre     type2           p1   \n",
       "2         cf               Male           pre     type1           p1   \n",
       "3         cf               Male         nopre     type1           p4   \n",
       "4         cf              Joint           pre     type1           p1   \n",
       "\n",
       "  Credit_Worthiness business_or_commercial  loan_amount  rate_of_interest  \\\n",
       "0                l1                  nob/c       116500               NaN   \n",
       "1                l1                    b/c       206500               NaN   \n",
       "2                l1                  nob/c       406500              4.56   \n",
       "3                l1                  nob/c       456500              4.25   \n",
       "4                l1                  nob/c       696500              4.00   \n",
       "\n",
       "   Interest_rate_spread  Upfront_charges   term  property_value   income  \\\n",
       "0                   NaN              NaN  360.0        118000.0   1740.0   \n",
       "1                   NaN              NaN  360.0             NaN   4980.0   \n",
       "2                0.2000            595.0  360.0        508000.0   9480.0   \n",
       "3                0.6810              NaN  360.0        658000.0  11880.0   \n",
       "4                0.3042              0.0  360.0        758000.0  10440.0   \n",
       "\n",
       "  credit_type  Credit_Score    age Region  Status  \n",
       "0         EXP           758  25-34  south       1  \n",
       "1        EQUI           552  55-64  North       1  \n",
       "2         EXP           834  35-44  south       0  \n",
       "3         EXP           587  45-54  North       0  \n",
       "4        CRIF           602  25-34  North       0  "
      ]
     },
     "execution_count": 6,
     "metadata": {},
     "output_type": "execute_result"
    },
    {
     "name": "stdout",
     "output_type": "stream",
     "text": [
      "\n"
     ]
    },
    {
     "data": {
      "text/html": [
       "<div>\n",
       "<style scoped>\n",
       "    .dataframe tbody tr th:only-of-type {\n",
       "        vertical-align: middle;\n",
       "    }\n",
       "\n",
       "    .dataframe tbody tr th {\n",
       "        vertical-align: top;\n",
       "    }\n",
       "\n",
       "    .dataframe thead th {\n",
       "        text-align: right;\n",
       "    }\n",
       "</style>\n",
       "<table border=\"1\" class=\"dataframe\">\n",
       "  <thead>\n",
       "    <tr style=\"text-align: right;\">\n",
       "      <th></th>\n",
       "      <th>loan_limit</th>\n",
       "      <th>Gender</th>\n",
       "      <th>approv_in_adv</th>\n",
       "      <th>loan_type</th>\n",
       "      <th>loan_purpose</th>\n",
       "      <th>Credit_Worthiness</th>\n",
       "      <th>business_or_commercial</th>\n",
       "      <th>loan_amount</th>\n",
       "      <th>rate_of_interest</th>\n",
       "      <th>Interest_rate_spread</th>\n",
       "      <th>Upfront_charges</th>\n",
       "      <th>term</th>\n",
       "      <th>property_value</th>\n",
       "      <th>income</th>\n",
       "      <th>credit_type</th>\n",
       "      <th>Credit_Score</th>\n",
       "      <th>age</th>\n",
       "      <th>Region</th>\n",
       "      <th>Status</th>\n",
       "    </tr>\n",
       "  </thead>\n",
       "  <tbody>\n",
       "    <tr>\n",
       "      <th>148665</th>\n",
       "      <td>cf</td>\n",
       "      <td>Sex Not Available</td>\n",
       "      <td>nopre</td>\n",
       "      <td>type1</td>\n",
       "      <td>p3</td>\n",
       "      <td>l1</td>\n",
       "      <td>nob/c</td>\n",
       "      <td>436500</td>\n",
       "      <td>3.125</td>\n",
       "      <td>0.2571</td>\n",
       "      <td>9960.00</td>\n",
       "      <td>180.0</td>\n",
       "      <td>608000.0</td>\n",
       "      <td>7860.0</td>\n",
       "      <td>CIB</td>\n",
       "      <td>659</td>\n",
       "      <td>55-64</td>\n",
       "      <td>south</td>\n",
       "      <td>0</td>\n",
       "    </tr>\n",
       "    <tr>\n",
       "      <th>148666</th>\n",
       "      <td>cf</td>\n",
       "      <td>Male</td>\n",
       "      <td>nopre</td>\n",
       "      <td>type1</td>\n",
       "      <td>p1</td>\n",
       "      <td>l1</td>\n",
       "      <td>nob/c</td>\n",
       "      <td>586500</td>\n",
       "      <td>5.190</td>\n",
       "      <td>0.8544</td>\n",
       "      <td>0.00</td>\n",
       "      <td>360.0</td>\n",
       "      <td>788000.0</td>\n",
       "      <td>7140.0</td>\n",
       "      <td>CIB</td>\n",
       "      <td>569</td>\n",
       "      <td>25-34</td>\n",
       "      <td>south</td>\n",
       "      <td>0</td>\n",
       "    </tr>\n",
       "    <tr>\n",
       "      <th>148667</th>\n",
       "      <td>cf</td>\n",
       "      <td>Male</td>\n",
       "      <td>nopre</td>\n",
       "      <td>type1</td>\n",
       "      <td>p4</td>\n",
       "      <td>l1</td>\n",
       "      <td>nob/c</td>\n",
       "      <td>446500</td>\n",
       "      <td>3.125</td>\n",
       "      <td>0.0816</td>\n",
       "      <td>1226.64</td>\n",
       "      <td>180.0</td>\n",
       "      <td>728000.0</td>\n",
       "      <td>6900.0</td>\n",
       "      <td>CIB</td>\n",
       "      <td>702</td>\n",
       "      <td>45-54</td>\n",
       "      <td>North</td>\n",
       "      <td>0</td>\n",
       "    </tr>\n",
       "    <tr>\n",
       "      <th>148668</th>\n",
       "      <td>cf</td>\n",
       "      <td>Female</td>\n",
       "      <td>nopre</td>\n",
       "      <td>type1</td>\n",
       "      <td>p4</td>\n",
       "      <td>l1</td>\n",
       "      <td>nob/c</td>\n",
       "      <td>196500</td>\n",
       "      <td>3.500</td>\n",
       "      <td>0.5824</td>\n",
       "      <td>4323.33</td>\n",
       "      <td>180.0</td>\n",
       "      <td>278000.0</td>\n",
       "      <td>7140.0</td>\n",
       "      <td>EXP</td>\n",
       "      <td>737</td>\n",
       "      <td>55-64</td>\n",
       "      <td>North</td>\n",
       "      <td>0</td>\n",
       "    </tr>\n",
       "    <tr>\n",
       "      <th>148669</th>\n",
       "      <td>cf</td>\n",
       "      <td>Female</td>\n",
       "      <td>nopre</td>\n",
       "      <td>type1</td>\n",
       "      <td>p3</td>\n",
       "      <td>l1</td>\n",
       "      <td>nob/c</td>\n",
       "      <td>406500</td>\n",
       "      <td>4.375</td>\n",
       "      <td>1.3871</td>\n",
       "      <td>6000.00</td>\n",
       "      <td>240.0</td>\n",
       "      <td>558000.0</td>\n",
       "      <td>7260.0</td>\n",
       "      <td>CIB</td>\n",
       "      <td>830</td>\n",
       "      <td>45-54</td>\n",
       "      <td>North</td>\n",
       "      <td>0</td>\n",
       "    </tr>\n",
       "  </tbody>\n",
       "</table>\n",
       "</div>"
      ],
      "text/plain": [
       "       loan_limit             Gender approv_in_adv loan_type loan_purpose  \\\n",
       "148665         cf  Sex Not Available         nopre     type1           p3   \n",
       "148666         cf               Male         nopre     type1           p1   \n",
       "148667         cf               Male         nopre     type1           p4   \n",
       "148668         cf             Female         nopre     type1           p4   \n",
       "148669         cf             Female         nopre     type1           p3   \n",
       "\n",
       "       Credit_Worthiness business_or_commercial  loan_amount  \\\n",
       "148665                l1                  nob/c       436500   \n",
       "148666                l1                  nob/c       586500   \n",
       "148667                l1                  nob/c       446500   \n",
       "148668                l1                  nob/c       196500   \n",
       "148669                l1                  nob/c       406500   \n",
       "\n",
       "        rate_of_interest  Interest_rate_spread  Upfront_charges   term  \\\n",
       "148665             3.125                0.2571          9960.00  180.0   \n",
       "148666             5.190                0.8544             0.00  360.0   \n",
       "148667             3.125                0.0816          1226.64  180.0   \n",
       "148668             3.500                0.5824          4323.33  180.0   \n",
       "148669             4.375                1.3871          6000.00  240.0   \n",
       "\n",
       "        property_value  income credit_type  Credit_Score    age Region  Status  \n",
       "148665        608000.0  7860.0         CIB           659  55-64  south       0  \n",
       "148666        788000.0  7140.0         CIB           569  25-34  south       0  \n",
       "148667        728000.0  6900.0         CIB           702  45-54  North       0  \n",
       "148668        278000.0  7140.0         EXP           737  55-64  North       0  \n",
       "148669        558000.0  7260.0         CIB           830  45-54  North       0  "
      ]
     },
     "execution_count": 6,
     "metadata": {},
     "output_type": "execute_result"
    }
   ],
   "source": [
    "# Check the first and last 5 rows of the dataset\n",
    "loandef.head()\n",
    "print( )\n",
    "loandef.tail( )"
   ]
  },
  {
   "cell_type": "code",
   "execution_count": 7,
   "id": "a243be17",
   "metadata": {
    "execution": {
     "iopub.execute_input": "2025-01-24T23:39:20.191891Z",
     "iopub.status.busy": "2025-01-24T23:39:20.191505Z",
     "iopub.status.idle": "2025-01-24T23:39:20.670440Z",
     "shell.execute_reply": "2025-01-24T23:39:20.669423Z"
    },
    "papermill": {
     "duration": 0.490391,
     "end_time": "2025-01-24T23:39:20.672457",
     "exception": false,
     "start_time": "2025-01-24T23:39:20.182066",
     "status": "completed"
    },
    "tags": []
   },
   "outputs": [
    {
     "data": {
      "text/plain": [
       "1"
      ]
     },
     "execution_count": 7,
     "metadata": {},
     "output_type": "execute_result"
    },
    {
     "name": "stdout",
     "output_type": "stream",
     "text": [
      "\n"
     ]
    },
    {
     "data": {
      "text/plain": [
       "0"
      ]
     },
     "execution_count": 7,
     "metadata": {},
     "output_type": "execute_result"
    }
   ],
   "source": [
    "# Check and remove duplicated values\n",
    "loandef.duplicated().sum() #check duplicated values\n",
    "print( )\n",
    "loandef.drop_duplicates(inplace=True)\n",
    "loandef.duplicated().sum() #check again after removing the duplicated"
   ]
  },
  {
   "cell_type": "code",
   "execution_count": 8,
   "id": "6520b982",
   "metadata": {
    "execution": {
     "iopub.execute_input": "2025-01-24T23:39:20.692126Z",
     "iopub.status.busy": "2025-01-24T23:39:20.691765Z",
     "iopub.status.idle": "2025-01-24T23:39:20.787617Z",
     "shell.execute_reply": "2025-01-24T23:39:20.786511Z"
    },
    "papermill": {
     "duration": 0.107201,
     "end_time": "2025-01-24T23:39:20.789248",
     "exception": false,
     "start_time": "2025-01-24T23:39:20.682047",
     "status": "completed"
    },
    "tags": []
   },
   "outputs": [
    {
     "data": {
      "text/html": [
       "<div>\n",
       "<style scoped>\n",
       "    .dataframe tbody tr th:only-of-type {\n",
       "        vertical-align: middle;\n",
       "    }\n",
       "\n",
       "    .dataframe tbody tr th {\n",
       "        vertical-align: top;\n",
       "    }\n",
       "\n",
       "    .dataframe thead th {\n",
       "        text-align: right;\n",
       "    }\n",
       "</style>\n",
       "<table border=\"1\" class=\"dataframe\">\n",
       "  <thead>\n",
       "    <tr style=\"text-align: right;\">\n",
       "      <th></th>\n",
       "      <th>loan_amount</th>\n",
       "      <th>rate_of_interest</th>\n",
       "      <th>Interest_rate_spread</th>\n",
       "      <th>Upfront_charges</th>\n",
       "      <th>term</th>\n",
       "      <th>property_value</th>\n",
       "      <th>income</th>\n",
       "      <th>Credit_Score</th>\n",
       "      <th>Status</th>\n",
       "    </tr>\n",
       "  </thead>\n",
       "  <tbody>\n",
       "    <tr>\n",
       "      <th>count</th>\n",
       "      <td>1.486690e+05</td>\n",
       "      <td>112231.000000</td>\n",
       "      <td>112031.000000</td>\n",
       "      <td>109028.000000</td>\n",
       "      <td>148628.000000</td>\n",
       "      <td>1.335710e+05</td>\n",
       "      <td>139519.000000</td>\n",
       "      <td>148669.000000</td>\n",
       "      <td>148669.000000</td>\n",
       "    </tr>\n",
       "    <tr>\n",
       "      <th>mean</th>\n",
       "      <td>3.311184e+05</td>\n",
       "      <td>4.045476</td>\n",
       "      <td>0.441656</td>\n",
       "      <td>3224.996127</td>\n",
       "      <td>335.136414</td>\n",
       "      <td>4.978953e+05</td>\n",
       "      <td>6957.366380</td>\n",
       "      <td>699.789284</td>\n",
       "      <td>0.246440</td>\n",
       "    </tr>\n",
       "    <tr>\n",
       "      <th>std</th>\n",
       "      <td>1.839098e+05</td>\n",
       "      <td>0.561391</td>\n",
       "      <td>0.513043</td>\n",
       "      <td>3251.121510</td>\n",
       "      <td>58.409244</td>\n",
       "      <td>3.599360e+05</td>\n",
       "      <td>6496.601541</td>\n",
       "      <td>115.876225</td>\n",
       "      <td>0.430939</td>\n",
       "    </tr>\n",
       "    <tr>\n",
       "      <th>min</th>\n",
       "      <td>1.650000e+04</td>\n",
       "      <td>0.000000</td>\n",
       "      <td>-3.638000</td>\n",
       "      <td>0.000000</td>\n",
       "      <td>96.000000</td>\n",
       "      <td>8.000000e+03</td>\n",
       "      <td>0.000000</td>\n",
       "      <td>500.000000</td>\n",
       "      <td>0.000000</td>\n",
       "    </tr>\n",
       "    <tr>\n",
       "      <th>25%</th>\n",
       "      <td>1.965000e+05</td>\n",
       "      <td>3.625000</td>\n",
       "      <td>0.076000</td>\n",
       "      <td>581.490000</td>\n",
       "      <td>360.000000</td>\n",
       "      <td>2.680000e+05</td>\n",
       "      <td>3720.000000</td>\n",
       "      <td>599.000000</td>\n",
       "      <td>0.000000</td>\n",
       "    </tr>\n",
       "    <tr>\n",
       "      <th>50%</th>\n",
       "      <td>2.965000e+05</td>\n",
       "      <td>3.990000</td>\n",
       "      <td>0.390400</td>\n",
       "      <td>2596.450000</td>\n",
       "      <td>360.000000</td>\n",
       "      <td>4.180000e+05</td>\n",
       "      <td>5760.000000</td>\n",
       "      <td>699.000000</td>\n",
       "      <td>0.000000</td>\n",
       "    </tr>\n",
       "    <tr>\n",
       "      <th>75%</th>\n",
       "      <td>4.365000e+05</td>\n",
       "      <td>4.375000</td>\n",
       "      <td>0.775400</td>\n",
       "      <td>4812.500000</td>\n",
       "      <td>360.000000</td>\n",
       "      <td>6.280000e+05</td>\n",
       "      <td>8520.000000</td>\n",
       "      <td>800.000000</td>\n",
       "      <td>0.000000</td>\n",
       "    </tr>\n",
       "    <tr>\n",
       "      <th>max</th>\n",
       "      <td>3.576500e+06</td>\n",
       "      <td>8.000000</td>\n",
       "      <td>3.357000</td>\n",
       "      <td>60000.000000</td>\n",
       "      <td>360.000000</td>\n",
       "      <td>1.650800e+07</td>\n",
       "      <td>578580.000000</td>\n",
       "      <td>900.000000</td>\n",
       "      <td>1.000000</td>\n",
       "    </tr>\n",
       "  </tbody>\n",
       "</table>\n",
       "</div>"
      ],
      "text/plain": [
       "        loan_amount  rate_of_interest  Interest_rate_spread  Upfront_charges  \\\n",
       "count  1.486690e+05     112231.000000         112031.000000    109028.000000   \n",
       "mean   3.311184e+05          4.045476              0.441656      3224.996127   \n",
       "std    1.839098e+05          0.561391              0.513043      3251.121510   \n",
       "min    1.650000e+04          0.000000             -3.638000         0.000000   \n",
       "25%    1.965000e+05          3.625000              0.076000       581.490000   \n",
       "50%    2.965000e+05          3.990000              0.390400      2596.450000   \n",
       "75%    4.365000e+05          4.375000              0.775400      4812.500000   \n",
       "max    3.576500e+06          8.000000              3.357000     60000.000000   \n",
       "\n",
       "                term  property_value         income   Credit_Score  \\\n",
       "count  148628.000000    1.335710e+05  139519.000000  148669.000000   \n",
       "mean      335.136414    4.978953e+05    6957.366380     699.789284   \n",
       "std        58.409244    3.599360e+05    6496.601541     115.876225   \n",
       "min        96.000000    8.000000e+03       0.000000     500.000000   \n",
       "25%       360.000000    2.680000e+05    3720.000000     599.000000   \n",
       "50%       360.000000    4.180000e+05    5760.000000     699.000000   \n",
       "75%       360.000000    6.280000e+05    8520.000000     800.000000   \n",
       "max       360.000000    1.650800e+07  578580.000000     900.000000   \n",
       "\n",
       "              Status  \n",
       "count  148669.000000  \n",
       "mean        0.246440  \n",
       "std         0.430939  \n",
       "min         0.000000  \n",
       "25%         0.000000  \n",
       "50%         0.000000  \n",
       "75%         0.000000  \n",
       "max         1.000000  "
      ]
     },
     "execution_count": 8,
     "metadata": {},
     "output_type": "execute_result"
    },
    {
     "name": "stdout",
     "output_type": "stream",
     "text": [
      "\n",
      "The dataset has 148669 rows\n"
     ]
    }
   ],
   "source": [
    "loandef.describe()\n",
    "print( )\n",
    "print(f'The dataset has {len(loandef)} rows')"
   ]
  },
  {
   "cell_type": "code",
   "execution_count": 9,
   "id": "88fb50a1",
   "metadata": {
    "execution": {
     "iopub.execute_input": "2025-01-24T23:39:20.809100Z",
     "iopub.status.busy": "2025-01-24T23:39:20.808717Z",
     "iopub.status.idle": "2025-01-24T23:39:20.978333Z",
     "shell.execute_reply": "2025-01-24T23:39:20.977367Z"
    },
    "papermill": {
     "duration": 0.181197,
     "end_time": "2025-01-24T23:39:20.979916",
     "exception": false,
     "start_time": "2025-01-24T23:39:20.798719",
     "status": "completed"
    },
    "tags": []
   },
   "outputs": [
    {
     "name": "stdout",
     "output_type": "stream",
     "text": [
      "<class 'pandas.core.frame.DataFrame'>\n",
      "Index: 148669 entries, 0 to 148669\n",
      "Data columns (total 19 columns):\n",
      " #   Column                  Non-Null Count   Dtype  \n",
      "---  ------                  --------------   -----  \n",
      " 0   loan_limit              145325 non-null  object \n",
      " 1   Gender                  148669 non-null  object \n",
      " 2   approv_in_adv           147761 non-null  object \n",
      " 3   loan_type               148669 non-null  object \n",
      " 4   loan_purpose            148535 non-null  object \n",
      " 5   Credit_Worthiness       148669 non-null  object \n",
      " 6   business_or_commercial  148669 non-null  object \n",
      " 7   loan_amount             148669 non-null  int64  \n",
      " 8   rate_of_interest        112231 non-null  float64\n",
      " 9   Interest_rate_spread    112031 non-null  float64\n",
      " 10  Upfront_charges         109028 non-null  float64\n",
      " 11  term                    148628 non-null  float64\n",
      " 12  property_value          133571 non-null  float64\n",
      " 13  income                  139519 non-null  float64\n",
      " 14  credit_type             148669 non-null  object \n",
      " 15  Credit_Score            148669 non-null  int64  \n",
      " 16  age                     148469 non-null  object \n",
      " 17  Region                  148669 non-null  object \n",
      " 18  Status                  148669 non-null  int64  \n",
      "dtypes: float64(6), int64(3), object(10)\n",
      "memory usage: 22.7+ MB\n",
      "\n"
     ]
    },
    {
     "data": {
      "text/plain": [
       "loan_limit                 3344\n",
       "Gender                        0\n",
       "approv_in_adv               908\n",
       "loan_type                     0\n",
       "loan_purpose                134\n",
       "Credit_Worthiness             0\n",
       "business_or_commercial        0\n",
       "loan_amount                   0\n",
       "rate_of_interest          36438\n",
       "Interest_rate_spread      36638\n",
       "Upfront_charges           39641\n",
       "term                         41\n",
       "property_value            15098\n",
       "income                     9150\n",
       "credit_type                   0\n",
       "Credit_Score                  0\n",
       "age                         200\n",
       "Region                        0\n",
       "Status                        0\n",
       "dtype: int64"
      ]
     },
     "execution_count": 9,
     "metadata": {},
     "output_type": "execute_result"
    }
   ],
   "source": [
    "# Check the data types and missing values in each column\n",
    "loandef.info()\n",
    "print( )\n",
    "loandef.isnull().sum()"
   ]
  },
  {
   "cell_type": "code",
   "execution_count": 10,
   "id": "bc91bffb",
   "metadata": {
    "execution": {
     "iopub.execute_input": "2025-01-24T23:39:21.000655Z",
     "iopub.status.busy": "2025-01-24T23:39:21.000257Z",
     "iopub.status.idle": "2025-01-24T23:39:24.874914Z",
     "shell.execute_reply": "2025-01-24T23:39:24.873864Z"
    },
    "papermill": {
     "duration": 3.887589,
     "end_time": "2025-01-24T23:39:24.877215",
     "exception": false,
     "start_time": "2025-01-24T23:39:20.989626",
     "status": "completed"
    },
    "tags": []
   },
   "outputs": [
    {
     "data": {
      "text/plain": [
       "array([[<Axes: title={'center': 'loan_amount'}>,\n",
       "        <Axes: title={'center': 'rate_of_interest'}>,\n",
       "        <Axes: title={'center': 'Interest_rate_spread'}>],\n",
       "       [<Axes: title={'center': 'Upfront_charges'}>,\n",
       "        <Axes: title={'center': 'term'}>,\n",
       "        <Axes: title={'center': 'property_value'}>],\n",
       "       [<Axes: title={'center': 'income'}>,\n",
       "        <Axes: title={'center': 'Credit_Score'}>,\n",
       "        <Axes: title={'center': 'Status'}>]], dtype=object)"
      ]
     },
     "execution_count": 10,
     "metadata": {},
     "output_type": "execute_result"
    },
    {
     "data": {
      "image/png": "[encoded data removed]",
      "text/plain": [
       "<Figure size 2000x1500 with 9 Axes>"
      ]
     },
     "metadata": {},
     "output_type": "display_data"
    }
   ],
   "source": [
    "# Check the data distribution by graphing histograms\n",
    "loandef.hist(\n",
    "    bins = 100,\n",
    "    figsize = (20, 15)\n",
    ")"
   ]
  },
  {
   "cell_type": "code",
   "execution_count": 11,
   "id": "d6e10e80",
   "metadata": {
    "execution": {
     "iopub.execute_input": "2025-01-24T23:39:24.902611Z",
     "iopub.status.busy": "2025-01-24T23:39:24.902230Z",
     "iopub.status.idle": "2025-01-24T23:39:24.915064Z",
     "shell.execute_reply": "2025-01-24T23:39:24.914203Z"
    },
    "papermill": {
     "duration": 0.027331,
     "end_time": "2025-01-24T23:39:24.916707",
     "exception": false,
     "start_time": "2025-01-24T23:39:24.889376",
     "status": "completed"
    },
    "tags": []
   },
   "outputs": [],
   "source": [
    "# Among the columns with missing values, only 'rate_of_interest' and 'Interest_rate_spread' have the bell-shaped distribution\n",
    "# Replace the missing values in 'rate_of_interest' and 'Interest_rate_spread' columns with their mean values\n",
    "mean_interest_rate = loandef['rate_of_interest'].mean()\n",
    "mean_rate_spread = loandef['Interest_rate_spread'].mean()\n",
    "loandef['rate_of_interest'].fillna(mean_interest_rate, inplace=True)\n",
    "loandef['Interest_rate_spread'].fillna(mean_rate_spread, inplace=True)"
   ]
  },
  {
   "cell_type": "code",
   "execution_count": 12,
   "id": "ff455726",
   "metadata": {
    "execution": {
     "iopub.execute_input": "2025-01-24T23:39:24.942137Z",
     "iopub.status.busy": "2025-01-24T23:39:24.941777Z",
     "iopub.status.idle": "2025-01-24T23:39:25.026805Z",
     "shell.execute_reply": "2025-01-24T23:39:25.025535Z"
    },
    "papermill": {
     "duration": 0.099342,
     "end_time": "2025-01-24T23:39:25.028330",
     "exception": false,
     "start_time": "2025-01-24T23:39:24.928988",
     "status": "completed"
    },
    "tags": []
   },
   "outputs": [
    {
     "data": {
      "text/plain": [
       "loan_limit                 3344\n",
       "Gender                        0\n",
       "approv_in_adv               908\n",
       "loan_type                     0\n",
       "loan_purpose                134\n",
       "Credit_Worthiness             0\n",
       "business_or_commercial        0\n",
       "loan_amount                   0\n",
       "rate_of_interest              0\n",
       "Interest_rate_spread          0\n",
       "Upfront_charges           39641\n",
       "term                         41\n",
       "property_value            15098\n",
       "income                     9150\n",
       "credit_type                   0\n",
       "Credit_Score                  0\n",
       "age                         200\n",
       "Region                        0\n",
       "Status                        0\n",
       "dtype: int64"
      ]
     },
     "execution_count": 12,
     "metadata": {},
     "output_type": "execute_result"
    },
    {
     "name": "stdout",
     "output_type": "stream",
     "text": [
      "\n"
     ]
    },
    {
     "data": {
      "text/plain": [
       "148669"
      ]
     },
     "execution_count": 12,
     "metadata": {},
     "output_type": "execute_result"
    }
   ],
   "source": [
    "# Check the missing values again\n",
    "loandef.isnull().sum()\n",
    "print( )\n",
    "len(loandef)"
   ]
  },
  {
   "cell_type": "markdown",
   "id": "9cf99416",
   "metadata": {
    "papermill": {
     "duration": 0.011677,
     "end_time": "2025-01-24T23:39:25.052223",
     "exception": false,
     "start_time": "2025-01-24T23:39:25.040546",
     "status": "completed"
    },
    "tags": []
   },
   "source": [
    "**II. CONSTRUCT DATA PIPELINES AND SPLIT TRAIN-TEST SETS**\n",
    "\n",
    "We will continue with the cleansing with a more advance process. After the data is clean, we will prepare the train-test sets to train the models later"
   ]
  },
  {
   "cell_type": "code",
   "execution_count": 13,
   "id": "d486a0da",
   "metadata": {
    "execution": {
     "iopub.execute_input": "2025-01-24T23:39:25.077597Z",
     "iopub.status.busy": "2025-01-24T23:39:25.077194Z",
     "iopub.status.idle": "2025-01-24T23:39:25.082049Z",
     "shell.execute_reply": "2025-01-24T23:39:25.080990Z"
    },
    "papermill": {
     "duration": 0.01935,
     "end_time": "2025-01-24T23:39:25.083583",
     "exception": false,
     "start_time": "2025-01-24T23:39:25.064233",
     "status": "completed"
    },
    "tags": []
   },
   "outputs": [],
   "source": [
    "# Provide a list of numerical features and a list of categorical features\n",
    "num_features = ['loan_amount', 'rate_of_interest', 'Interest_rate_spread', 'Upfront_charges', 'term', 'property_value', 'income', 'Credit_Score']\n",
    "cat_features = ['loan_limit', 'Gender', 'approv_in_adv', 'loan_type', 'loan_purpose', 'Credit_Worthiness', 'business_or_commercial', 'credit_type', 'age', 'Region']"
   ]
  },
  {
   "cell_type": "code",
   "execution_count": 14,
   "id": "f364fda6",
   "metadata": {
    "execution": {
     "iopub.execute_input": "2025-01-24T23:39:25.109339Z",
     "iopub.status.busy": "2025-01-24T23:39:25.108964Z",
     "iopub.status.idle": "2025-01-24T23:39:25.114099Z",
     "shell.execute_reply": "2025-01-24T23:39:25.113132Z"
    },
    "papermill": {
     "duration": 0.019649,
     "end_time": "2025-01-24T23:39:25.115693",
     "exception": false,
     "start_time": "2025-01-24T23:39:25.096044",
     "status": "completed"
    },
    "tags": []
   },
   "outputs": [],
   "source": [
    "# Create a pipeline to process numerical features\n",
    "num_pipline = Pipeline([\n",
    "    ('imputer', SimpleImputer(strategy='median')), # impute missing values with the median\n",
    "    ('std_scaler', StandardScaler()) # standardize a feature\n",
    "  ])\n",
    "\n",
    "# Create a pipeline to process categorical features\n",
    "cat_pipline = Pipeline([\n",
    "    ('imputer', SimpleImputer(strategy='most_frequent')),  # Replace missing values with the mode\n",
    "    ('encoder', OneHotEncoder(handle_unknown='ignore'))   # One-hot encode categorical features\n",
    "])\n",
    "\n",
    "# Create a full pipeline to process both numerical and categorical features\n",
    "full_pipline = ColumnTransformer([\n",
    "  ('num', num_pipline, num_features), # process numerical features using the numerical feature pipline created\n",
    "  ('cat', cat_pipline, cat_features) # process categorical features using one-hot encoder\n",
    "  ])"
   ]
  },
  {
   "cell_type": "code",
   "execution_count": 15,
   "id": "97f3b31f",
   "metadata": {
    "execution": {
     "iopub.execute_input": "2025-01-24T23:39:25.141278Z",
     "iopub.status.busy": "2025-01-24T23:39:25.140928Z",
     "iopub.status.idle": "2025-01-24T23:39:25.157412Z",
     "shell.execute_reply": "2025-01-24T23:39:25.156449Z"
    },
    "papermill": {
     "duration": 0.031269,
     "end_time": "2025-01-24T23:39:25.159230",
     "exception": false,
     "start_time": "2025-01-24T23:39:25.127961",
     "status": "completed"
    },
    "tags": []
   },
   "outputs": [],
   "source": [
    "# Identify the features and target\n",
    "X = loandef.drop('Status', axis=1)  #features\n",
    "y = loandef['Status']  #target\n",
    "y = y.values.reshape(-1, 1)"
   ]
  },
  {
   "cell_type": "code",
   "execution_count": 16,
   "id": "d3bc8bec",
   "metadata": {
    "execution": {
     "iopub.execute_input": "2025-01-24T23:39:25.185039Z",
     "iopub.status.busy": "2025-01-24T23:39:25.184687Z",
     "iopub.status.idle": "2025-01-24T23:39:25.189928Z",
     "shell.execute_reply": "2025-01-24T23:39:25.189047Z"
    },
    "papermill": {
     "duration": 0.019711,
     "end_time": "2025-01-24T23:39:25.191338",
     "exception": false,
     "start_time": "2025-01-24T23:39:25.171627",
     "status": "completed"
    },
    "tags": []
   },
   "outputs": [
    {
     "name": "stdout",
     "output_type": "stream",
     "text": [
      "(148669, 18)\n",
      "(148669, 1)\n"
     ]
    }
   ],
   "source": [
    "# Recheck the shape of features an target\n",
    "print(X.shape)\n",
    "print(y.shape)"
   ]
  },
  {
   "cell_type": "code",
   "execution_count": 17,
   "id": "c257ed32",
   "metadata": {
    "execution": {
     "iopub.execute_input": "2025-01-24T23:39:25.217071Z",
     "iopub.status.busy": "2025-01-24T23:39:25.216703Z",
     "iopub.status.idle": "2025-01-24T23:39:25.267466Z",
     "shell.execute_reply": "2025-01-24T23:39:25.266586Z"
    },
    "papermill": {
     "duration": 0.065617,
     "end_time": "2025-01-24T23:39:25.269285",
     "exception": false,
     "start_time": "2025-01-24T23:39:25.203668",
     "status": "completed"
    },
    "tags": []
   },
   "outputs": [],
   "source": [
    "# Split the train and test sets\n",
    "X_train, X_test, y_train, y_test = train_test_split(\n",
    "    X, # features\n",
    "    y, # target\n",
    "    test_size = 0.2, # 20% data to be included in the test set\n",
    "    random_state = 42 # specify random seed for results replication\n",
    "  )"
   ]
  },
  {
   "cell_type": "code",
   "execution_count": 18,
   "id": "fe9c1d9f",
   "metadata": {
    "execution": {
     "iopub.execute_input": "2025-01-24T23:39:25.295427Z",
     "iopub.status.busy": "2025-01-24T23:39:25.295056Z",
     "iopub.status.idle": "2025-01-24T23:39:26.160837Z",
     "shell.execute_reply": "2025-01-24T23:39:26.159652Z"
    },
    "papermill": {
     "duration": 0.881079,
     "end_time": "2025-01-24T23:39:26.162894",
     "exception": false,
     "start_time": "2025-01-24T23:39:25.281815",
     "status": "completed"
    },
    "tags": []
   },
   "outputs": [],
   "source": [
    "# Fit and transform the data using the full pipeline\n",
    "X_train = full_pipline.fit_transform(X_train)\n",
    "\n",
    "X_test = full_pipline.transform(X_test)"
   ]
  },
  {
   "cell_type": "markdown",
   "id": "acfb4b99",
   "metadata": {
    "papermill": {
     "duration": 0.012664,
     "end_time": "2025-01-24T23:39:26.190115",
     "exception": false,
     "start_time": "2025-01-24T23:39:26.177451",
     "status": "completed"
    },
    "tags": []
   },
   "source": [
    "**III. Hyperparameter Tuning**\n",
    "\n",
    "I want to tune the hyperparameters for 4 models: Logistic Regression, K-nearest neighbors, Decision Tree, and Random Forest. At first, I tried using RandomSearch CV but my laptop turned out to be unable to perform it. Therefore, I changed to use cross-validation and only applied it to 10% of my train set (because the data was too heavy)"
   ]
  },
  {
   "cell_type": "code",
   "execution_count": 19,
   "id": "80185347",
   "metadata": {
    "execution": {
     "iopub.execute_input": "2025-01-24T23:39:26.216362Z",
     "iopub.status.busy": "2025-01-24T23:39:26.215993Z",
     "iopub.status.idle": "2025-01-24T23:39:26.247795Z",
     "shell.execute_reply": "2025-01-24T23:39:26.246917Z"
    },
    "papermill": {
     "duration": 0.046969,
     "end_time": "2025-01-24T23:39:26.249557",
     "exception": false,
     "start_time": "2025-01-24T23:39:26.202588",
     "status": "completed"
    },
    "tags": []
   },
   "outputs": [],
   "source": [
    "# Create smaller train set\n",
    "X_train_small, _, y_train_small, _ = train_test_split(\n",
    "    X_train,\n",
    "    y_train,\n",
    "    test_size=0.9,\n",
    "    random_state=42\n",
    ")"
   ]
  },
  {
   "cell_type": "markdown",
   "id": "389ba748",
   "metadata": {
    "papermill": {
     "duration": 0.011872,
     "end_time": "2025-01-24T23:39:26.273978",
     "exception": false,
     "start_time": "2025-01-24T23:39:26.262106",
     "status": "completed"
    },
    "tags": []
   },
   "source": [
    "> Logistic Regression"
   ]
  },
  {
   "cell_type": "code",
   "execution_count": 20,
   "id": "4eb70403",
   "metadata": {
    "execution": {
     "iopub.execute_input": "2025-01-24T23:39:26.299789Z",
     "iopub.status.busy": "2025-01-24T23:39:26.299376Z",
     "iopub.status.idle": "2025-01-24T23:39:33.928578Z",
     "shell.execute_reply": "2025-01-24T23:39:33.927351Z"
    },
    "papermill": {
     "duration": 7.644331,
     "end_time": "2025-01-24T23:39:33.930534",
     "exception": false,
     "start_time": "2025-01-24T23:39:26.286203",
     "status": "completed"
    },
    "tags": []
   },
   "outputs": [
    {
     "name": "stdout",
     "output_type": "stream",
     "text": [
      "Logistic Regression - Best C: 10\n",
      "Average AUC Scores: [0.7929380044364146, 0.7932084892481601, 0.7932774976027849]\n"
     ]
    }
   ],
   "source": [
    "# Find the best hyperparameter using cross-validation\n",
    "C_values = [0.1, 1, 10]  # Small range for faster testing\n",
    "log_reg_auc_scores = []\n",
    "\n",
    "# Loop through different C values\n",
    "for C in C_values:\n",
    "    log_reg = LogisticRegression(C=C, max_iter=500, solver='saga', random_state=42, n_jobs=-1)\n",
    "    auc_scores = cross_val_score(log_reg, X_train_small, y_train_small, cv=3, scoring='roc_auc', n_jobs=-1)\n",
    "    log_reg_auc_scores.append(auc_scores.mean())  # Store average AUC\n",
    "\n",
    "# Find the best hyperparameter\n",
    "best_C = C_values[np.argmax(log_reg_auc_scores)]\n",
    "print(\"Logistic Regression - Best C:\", best_C)\n",
    "print(\"Average AUC Scores:\", log_reg_auc_scores)"
   ]
  },
  {
   "cell_type": "markdown",
   "id": "b3e16680",
   "metadata": {
    "papermill": {
     "duration": 0.012,
     "end_time": "2025-01-24T23:39:33.955197",
     "exception": false,
     "start_time": "2025-01-24T23:39:33.943197",
     "status": "completed"
    },
    "tags": []
   },
   "source": [
    "> K-nearest neighbors"
   ]
  },
  {
   "cell_type": "code",
   "execution_count": 21,
   "id": "e176c990",
   "metadata": {
    "execution": {
     "iopub.execute_input": "2025-01-24T23:39:33.981701Z",
     "iopub.status.busy": "2025-01-24T23:39:33.981303Z",
     "iopub.status.idle": "2025-01-24T23:39:35.235911Z",
     "shell.execute_reply": "2025-01-24T23:39:35.234849Z"
    },
    "papermill": {
     "duration": 1.270141,
     "end_time": "2025-01-24T23:39:35.237997",
     "exception": false,
     "start_time": "2025-01-24T23:39:33.967856",
     "status": "completed"
    },
    "tags": []
   },
   "outputs": [
    {
     "name": "stdout",
     "output_type": "stream",
     "text": [
      "KNN - Best n_neighbors: 7\n",
      "Average AUC Scores: [0.9278876970409305, 0.949439632204126, 0.9582228329050925]\n"
     ]
    }
   ],
   "source": [
    "# Find the best hyperparameter using cross-validation\n",
    "neighbor_values = [3, 5, 7]  # Test limited neighbors for efficiency\n",
    "knn_auc_scores = []\n",
    "\n",
    "# Loop through different n_neighbors\n",
    "for n in neighbor_values:\n",
    "    knn_model = KNeighborsClassifier(n_neighbors=n, n_jobs=-1)\n",
    "    auc_scores = cross_val_score(knn_model, X_train_small, y_train_small, cv=3, scoring='roc_auc', n_jobs=-1)\n",
    "    knn_auc_scores.append(auc_scores.mean())\n",
    "\n",
    "# Find the best hyperparameter\n",
    "best_n_neighbors = neighbor_values[np.argmax(knn_auc_scores)]\n",
    "print(\"KNN - Best n_neighbors:\", best_n_neighbors)\n",
    "print(\"Average AUC Scores:\", knn_auc_scores)"
   ]
  },
  {
   "cell_type": "markdown",
   "id": "a252cb5f",
   "metadata": {
    "papermill": {
     "duration": 0.012043,
     "end_time": "2025-01-24T23:39:35.263015",
     "exception": false,
     "start_time": "2025-01-24T23:39:35.250972",
     "status": "completed"
    },
    "tags": []
   },
   "source": [
    "> Decision Tree"
   ]
  },
  {
   "cell_type": "code",
   "execution_count": 22,
   "id": "c15ed04c",
   "metadata": {
    "execution": {
     "iopub.execute_input": "2025-01-24T23:39:35.289251Z",
     "iopub.status.busy": "2025-01-24T23:39:35.288834Z",
     "iopub.status.idle": "2025-01-24T23:39:35.751280Z",
     "shell.execute_reply": "2025-01-24T23:39:35.750167Z"
    },
    "papermill": {
     "duration": 0.477276,
     "end_time": "2025-01-24T23:39:35.752871",
     "exception": false,
     "start_time": "2025-01-24T23:39:35.275595",
     "status": "completed"
    },
    "tags": []
   },
   "outputs": [
    {
     "name": "stdout",
     "output_type": "stream",
     "text": [
      "Decision Tree - Best max_depth: 3\n",
      "Average AUC Scores: [0.9999443516972732, 0.9999443516972732, 0.9999443516972732]\n"
     ]
    }
   ],
   "source": [
    "# Find the best hyperparameter using cross-validation\n",
    "depth_values = [3, 5, 7]  # Test limited max_depths\n",
    "dec_tree_scores = []\n",
    "\n",
    "# Loop through different max_depth values\n",
    "for depth in depth_values:\n",
    "    dec_tree = DecisionTreeClassifier(max_depth=depth, random_state=42)\n",
    "    auc_scores = cross_val_score(dec_tree, X_train_small, y_train_small, cv=3, scoring='roc_auc', n_jobs=-1)\n",
    "    dec_tree_scores.append(auc_scores.mean())\n",
    "\n",
    "# Find the best hyperparameter\n",
    "best_depth = depth_values[np.argmax(dec_tree_scores)]\n",
    "print(\"Decision Tree - Best max_depth:\", best_depth)\n",
    "print(\"Average AUC Scores:\", dec_tree_scores)"
   ]
  },
  {
   "cell_type": "markdown",
   "id": "a2e5a4c6",
   "metadata": {
    "papermill": {
     "duration": 0.012136,
     "end_time": "2025-01-24T23:39:35.777704",
     "exception": false,
     "start_time": "2025-01-24T23:39:35.765568",
     "status": "completed"
    },
    "tags": []
   },
   "source": [
    "Random Forest"
   ]
  },
  {
   "cell_type": "code",
   "execution_count": 23,
   "id": "32326f3a",
   "metadata": {
    "execution": {
     "iopub.execute_input": "2025-01-24T23:39:35.803877Z",
     "iopub.status.busy": "2025-01-24T23:39:35.803508Z",
     "iopub.status.idle": "2025-01-24T23:39:37.243507Z",
     "shell.execute_reply": "2025-01-24T23:39:37.242330Z"
    },
    "papermill": {
     "duration": 1.454973,
     "end_time": "2025-01-24T23:39:37.245154",
     "exception": false,
     "start_time": "2025-01-24T23:39:35.790181",
     "status": "completed"
    },
    "tags": []
   },
   "outputs": [
    {
     "name": "stdout",
     "output_type": "stream",
     "text": [
      "Random Forest - Best n_estimators: 50\n",
      "Average AUC Scores: [1.0, 1.0]\n"
     ]
    }
   ],
   "source": [
    "# Find the best hyperparameter using cross-validation\n",
    "estimator_values = [50, 100]  # Test small number of trees for speed\n",
    "forest_auc_scores = []\n",
    "\n",
    "# Loop through different n_estimators\n",
    "for n_estimators in estimator_values:\n",
    "    forest_clf = RandomForestClassifier(n_estimators=n_estimators, random_state=42, n_jobs=-1)\n",
    "    auc_scores = cross_val_score(forest_clf, X_train_small, y_train_small, cv=3, scoring='roc_auc', n_jobs=-1)\n",
    "    forest_auc_scores.append(auc_scores.mean())\n",
    "\n",
    "# Find the best hyperparameter\n",
    "best_n_estimators = estimator_values[np.argmax(forest_auc_scores)]\n",
    "print(\"Random Forest - Best n_estimators:\", best_n_estimators)\n",
    "print(\"Average AUC Scores:\", forest_auc_scores)"
   ]
  },
  {
   "cell_type": "markdown",
   "id": "07675c5b",
   "metadata": {
    "papermill": {
     "duration": 0.012787,
     "end_time": "2025-01-24T23:39:37.270824",
     "exception": false,
     "start_time": "2025-01-24T23:39:37.258037",
     "status": "completed"
    },
    "tags": []
   },
   "source": [
    "**IV. TRAIN MODELS USING TUNED HYPERPARAMETERS**"
   ]
  },
  {
   "cell_type": "markdown",
   "id": "9a6677a8",
   "metadata": {
    "papermill": {
     "duration": 0.01233,
     "end_time": "2025-01-24T23:39:37.295860",
     "exception": false,
     "start_time": "2025-01-24T23:39:37.283530",
     "status": "completed"
    },
    "tags": []
   },
   "source": [
    "> Logistic Regression"
   ]
  },
  {
   "cell_type": "code",
   "execution_count": 24,
   "id": "3e72906c",
   "metadata": {
    "execution": {
     "iopub.execute_input": "2025-01-24T23:39:37.322879Z",
     "iopub.status.busy": "2025-01-24T23:39:37.322463Z",
     "iopub.status.idle": "2025-01-24T23:40:32.630197Z",
     "shell.execute_reply": "2025-01-24T23:40:32.629127Z"
    },
    "papermill": {
     "duration": 55.336066,
     "end_time": "2025-01-24T23:40:32.644809",
     "exception": false,
     "start_time": "2025-01-24T23:39:37.308743",
     "status": "completed"
    },
    "tags": []
   },
   "outputs": [
    {
     "data": {
      "text/html": [
       "<style>#sk-container-id-1 {color: black;background-color: white;}#sk-container-id-1 pre{padding: 0;}#sk-container-id-1 div.sk-toggleable {background-color: white;}#sk-container-id-1 label.sk-toggleable__label {cursor: pointer;display: block;width: 100%;margin-bottom: 0;padding: 0.3em;box-sizing: border-box;text-align: center;}#sk-container-id-1 label.sk-toggleable__label-arrow:before {content: \"▸\";float: left;margin-right: 0.25em;color: #696969;}#sk-container-id-1 label.sk-toggleable__label-arrow:hover:before {color: black;}#sk-container-id-1 div.sk-estimator:hover label.sk-toggleable__label-arrow:before {color: black;}#sk-container-id-1 div.sk-toggleable__content {max-height: 0;max-width: 0;overflow: hidden;text-align: left;background-color: #f0f8ff;}#sk-container-id-1 div.sk-toggleable__content pre {margin: 0.2em;color: black;border-radius: 0.25em;background-color: #f0f8ff;}#sk-container-id-1 input.sk-toggleable__control:checked~div.sk-toggleable__content {max-height: 200px;max-width: 100%;overflow: auto;}#sk-container-id-1 input.sk-toggleable__control:checked~label.sk-toggleable__label-arrow:before {content: \"▾\";}#sk-container-id-1 div.sk-estimator input.sk-toggleable__control:checked~label.sk-toggleable__label {background-color: #d4ebff;}#sk-container-id-1 div.sk-label input.sk-toggleable__control:checked~label.sk-toggleable__label {background-color: #d4ebff;}#sk-container-id-1 input.sk-hidden--visually {border: 0;clip: rect(1px 1px 1px 1px);clip: rect(1px, 1px, 1px, 1px);height: 1px;margin: -1px;overflow: hidden;padding: 0;position: absolute;width: 1px;}#sk-container-id-1 div.sk-estimator {font-family: monospace;background-color: #f0f8ff;border: 1px dotted black;border-radius: 0.25em;box-sizing: border-box;margin-bottom: 0.5em;}#sk-container-id-1 div.sk-estimator:hover {background-color: #d4ebff;}#sk-container-id-1 div.sk-parallel-item::after {content: \"\";width: 100%;border-bottom: 1px solid gray;flex-grow: 1;}#sk-container-id-1 div.sk-label:hover label.sk-toggleable__label {background-color: #d4ebff;}#sk-container-id-1 div.sk-serial::before {content: \"\";position: absolute;border-left: 1px solid gray;box-sizing: border-box;top: 0;bottom: 0;left: 50%;z-index: 0;}#sk-container-id-1 div.sk-serial {display: flex;flex-direction: column;align-items: center;background-color: white;padding-right: 0.2em;padding-left: 0.2em;position: relative;}#sk-container-id-1 div.sk-item {position: relative;z-index: 1;}#sk-container-id-1 div.sk-parallel {display: flex;align-items: stretch;justify-content: center;background-color: white;position: relative;}#sk-container-id-1 div.sk-item::before, #sk-container-id-1 div.sk-parallel-item::before {content: \"\";position: absolute;border-left: 1px solid gray;box-sizing: border-box;top: 0;bottom: 0;left: 50%;z-index: -1;}#sk-container-id-1 div.sk-parallel-item {display: flex;flex-direction: column;z-index: 1;position: relative;background-color: white;}#sk-container-id-1 div.sk-parallel-item:first-child::after {align-self: flex-end;width: 50%;}#sk-container-id-1 div.sk-parallel-item:last-child::after {align-self: flex-start;width: 50%;}#sk-container-id-1 div.sk-parallel-item:only-child::after {width: 0;}#sk-container-id-1 div.sk-dashed-wrapped {border: 1px dashed gray;margin: 0 0.4em 0.5em 0.4em;box-sizing: border-box;padding-bottom: 0.4em;background-color: white;}#sk-container-id-1 div.sk-label label {font-family: monospace;font-weight: bold;display: inline-block;line-height: 1.2em;}#sk-container-id-1 div.sk-label-container {text-align: center;}#sk-container-id-1 div.sk-container {/* jupyter's `normalize.less` sets `[hidden] { display: none; }` but bootstrap.min.css set `[hidden] { display: none !important; }` so we also need the `!important` here to be able to override the default hidden behavior on the sphinx rendered scikit-learn.org. See: https://github.com/scikit-learn/scikit-learn/issues/21755 */display: inline-block !important;position: relative;}#sk-container-id-1 div.sk-text-repr-fallback {display: none;}</style><div id=\"sk-container-id-1\" class=\"sk-top-container\"><div class=\"sk-text-repr-fallback\"><pre>LogisticRegression(C=10, max_iter=500, n_jobs=-1, random_state=42,\n",
       "                   solver=&#x27;saga&#x27;)</pre><b>In a Jupyter environment, please rerun this cell to show the HTML representation or trust the notebook. <br />On GitHub, the HTML representation is unable to render, please try loading this page with nbviewer.org.</b></div><div class=\"sk-container\" hidden><div class=\"sk-item\"><div class=\"sk-estimator sk-toggleable\"><input class=\"sk-toggleable__control sk-hidden--visually\" id=\"sk-estimator-id-1\" type=\"checkbox\" checked><label for=\"sk-estimator-id-1\" class=\"sk-toggleable__label sk-toggleable__label-arrow\">LogisticRegression</label><div class=\"sk-toggleable__content\"><pre>LogisticRegression(C=10, max_iter=500, n_jobs=-1, random_state=42,\n",
       "                   solver=&#x27;saga&#x27;)</pre></div></div></div></div></div>"
      ],
      "text/plain": [
       "LogisticRegression(C=10, max_iter=500, n_jobs=-1, random_state=42,\n",
       "                   solver='saga')"
      ]
     },
     "execution_count": 24,
     "metadata": {},
     "output_type": "execute_result"
    }
   ],
   "source": [
    "# Use the best C value found during tuning\n",
    "best_log_reg = LogisticRegression(C=best_C, max_iter=500, solver='saga', random_state=42, n_jobs=-1)\n",
    "best_log_reg.fit(X_train, y_train)"
   ]
  },
  {
   "cell_type": "code",
   "execution_count": 25,
   "id": "5574cda0",
   "metadata": {
    "execution": {
     "iopub.execute_input": "2025-01-24T23:40:32.676913Z",
     "iopub.status.busy": "2025-01-24T23:40:32.676532Z",
     "iopub.status.idle": "2025-01-24T23:40:32.697907Z",
     "shell.execute_reply": "2025-01-24T23:40:32.696807Z"
    },
    "papermill": {
     "duration": 0.037474,
     "end_time": "2025-01-24T23:40:32.699629",
     "exception": false,
     "start_time": "2025-01-24T23:40:32.662155",
     "status": "completed"
    },
    "tags": []
   },
   "outputs": [
    {
     "name": "stdout",
     "output_type": "stream",
     "text": [
      "Logistic Regression AUC: 0.7994815109271716\n"
     ]
    }
   ],
   "source": [
    "log_reg_pred_prob = best_log_reg.predict_proba(X_test)[:, 1]\n",
    "print(\"Logistic Regression AUC:\", roc_auc_score(y_test, log_reg_pred_prob))"
   ]
  },
  {
   "cell_type": "markdown",
   "id": "67277131",
   "metadata": {
    "papermill": {
     "duration": 0.013316,
     "end_time": "2025-01-24T23:40:32.726223",
     "exception": false,
     "start_time": "2025-01-24T23:40:32.712907",
     "status": "completed"
    },
    "tags": []
   },
   "source": [
    "> K-nearest Neighbors"
   ]
  },
  {
   "cell_type": "code",
   "execution_count": 26,
   "id": "45d32be6",
   "metadata": {
    "execution": {
     "iopub.execute_input": "2025-01-24T23:40:32.753666Z",
     "iopub.status.busy": "2025-01-24T23:40:32.753275Z",
     "iopub.status.idle": "2025-01-24T23:40:32.776040Z",
     "shell.execute_reply": "2025-01-24T23:40:32.774848Z"
    },
    "papermill": {
     "duration": 0.038543,
     "end_time": "2025-01-24T23:40:32.777872",
     "exception": false,
     "start_time": "2025-01-24T23:40:32.739329",
     "status": "completed"
    },
    "tags": []
   },
   "outputs": [
    {
     "data": {
      "text/html": [
       "<style>#sk-container-id-2 {color: black;background-color: white;}#sk-container-id-2 pre{padding: 0;}#sk-container-id-2 div.sk-toggleable {background-color: white;}#sk-container-id-2 label.sk-toggleable__label {cursor: pointer;display: block;width: 100%;margin-bottom: 0;padding: 0.3em;box-sizing: border-box;text-align: center;}#sk-container-id-2 label.sk-toggleable__label-arrow:before {content: \"▸\";float: left;margin-right: 0.25em;color: #696969;}#sk-container-id-2 label.sk-toggleable__label-arrow:hover:before {color: black;}#sk-container-id-2 div.sk-estimator:hover label.sk-toggleable__label-arrow:before {color: black;}#sk-container-id-2 div.sk-toggleable__content {max-height: 0;max-width: 0;overflow: hidden;text-align: left;background-color: #f0f8ff;}#sk-container-id-2 div.sk-toggleable__content pre {margin: 0.2em;color: black;border-radius: 0.25em;background-color: #f0f8ff;}#sk-container-id-2 input.sk-toggleable__control:checked~div.sk-toggleable__content {max-height: 200px;max-width: 100%;overflow: auto;}#sk-container-id-2 input.sk-toggleable__control:checked~label.sk-toggleable__label-arrow:before {content: \"▾\";}#sk-container-id-2 div.sk-estimator input.sk-toggleable__control:checked~label.sk-toggleable__label {background-color: #d4ebff;}#sk-container-id-2 div.sk-label input.sk-toggleable__control:checked~label.sk-toggleable__label {background-color: #d4ebff;}#sk-container-id-2 input.sk-hidden--visually {border: 0;clip: rect(1px 1px 1px 1px);clip: rect(1px, 1px, 1px, 1px);height: 1px;margin: -1px;overflow: hidden;padding: 0;position: absolute;width: 1px;}#sk-container-id-2 div.sk-estimator {font-family: monospace;background-color: #f0f8ff;border: 1px dotted black;border-radius: 0.25em;box-sizing: border-box;margin-bottom: 0.5em;}#sk-container-id-2 div.sk-estimator:hover {background-color: #d4ebff;}#sk-container-id-2 div.sk-parallel-item::after {content: \"\";width: 100%;border-bottom: 1px solid gray;flex-grow: 1;}#sk-container-id-2 div.sk-label:hover label.sk-toggleable__label {background-color: #d4ebff;}#sk-container-id-2 div.sk-serial::before {content: \"\";position: absolute;border-left: 1px solid gray;box-sizing: border-box;top: 0;bottom: 0;left: 50%;z-index: 0;}#sk-container-id-2 div.sk-serial {display: flex;flex-direction: column;align-items: center;background-color: white;padding-right: 0.2em;padding-left: 0.2em;position: relative;}#sk-container-id-2 div.sk-item {position: relative;z-index: 1;}#sk-container-id-2 div.sk-parallel {display: flex;align-items: stretch;justify-content: center;background-color: white;position: relative;}#sk-container-id-2 div.sk-item::before, #sk-container-id-2 div.sk-parallel-item::before {content: \"\";position: absolute;border-left: 1px solid gray;box-sizing: border-box;top: 0;bottom: 0;left: 50%;z-index: -1;}#sk-container-id-2 div.sk-parallel-item {display: flex;flex-direction: column;z-index: 1;position: relative;background-color: white;}#sk-container-id-2 div.sk-parallel-item:first-child::after {align-self: flex-end;width: 50%;}#sk-container-id-2 div.sk-parallel-item:last-child::after {align-self: flex-start;width: 50%;}#sk-container-id-2 div.sk-parallel-item:only-child::after {width: 0;}#sk-container-id-2 div.sk-dashed-wrapped {border: 1px dashed gray;margin: 0 0.4em 0.5em 0.4em;box-sizing: border-box;padding-bottom: 0.4em;background-color: white;}#sk-container-id-2 div.sk-label label {font-family: monospace;font-weight: bold;display: inline-block;line-height: 1.2em;}#sk-container-id-2 div.sk-label-container {text-align: center;}#sk-container-id-2 div.sk-container {/* jupyter's `normalize.less` sets `[hidden] { display: none; }` but bootstrap.min.css set `[hidden] { display: none !important; }` so we also need the `!important` here to be able to override the default hidden behavior on the sphinx rendered scikit-learn.org. See: https://github.com/scikit-learn/scikit-learn/issues/21755 */display: inline-block !important;position: relative;}#sk-container-id-2 div.sk-text-repr-fallback {display: none;}</style><div id=\"sk-container-id-2\" class=\"sk-top-container\"><div class=\"sk-text-repr-fallback\"><pre>KNeighborsClassifier(n_jobs=-1, n_neighbors=7)</pre><b>In a Jupyter environment, please rerun this cell to show the HTML representation or trust the notebook. <br />On GitHub, the HTML representation is unable to render, please try loading this page with nbviewer.org.</b></div><div class=\"sk-container\" hidden><div class=\"sk-item\"><div class=\"sk-estimator sk-toggleable\"><input class=\"sk-toggleable__control sk-hidden--visually\" id=\"sk-estimator-id-2\" type=\"checkbox\" checked><label for=\"sk-estimator-id-2\" class=\"sk-toggleable__label sk-toggleable__label-arrow\">KNeighborsClassifier</label><div class=\"sk-toggleable__content\"><pre>KNeighborsClassifier(n_jobs=-1, n_neighbors=7)</pre></div></div></div></div></div>"
      ],
      "text/plain": [
       "KNeighborsClassifier(n_jobs=-1, n_neighbors=7)"
      ]
     },
     "execution_count": 26,
     "metadata": {},
     "output_type": "execute_result"
    }
   ],
   "source": [
    "# Use the best n_neighbors value found during tuning\n",
    "best_knn = KNeighborsClassifier(n_neighbors=best_n_neighbors, n_jobs=-1)\n",
    "best_knn.fit(X_train, y_train)"
   ]
  },
  {
   "cell_type": "code",
   "execution_count": 27,
   "id": "0ecf796d",
   "metadata": {
    "execution": {
     "iopub.execute_input": "2025-01-24T23:40:32.812122Z",
     "iopub.status.busy": "2025-01-24T23:40:32.811727Z",
     "iopub.status.idle": "2025-01-24T23:40:41.601889Z",
     "shell.execute_reply": "2025-01-24T23:40:41.600814Z"
    },
    "papermill": {
     "duration": 8.811468,
     "end_time": "2025-01-24T23:40:41.603463",
     "exception": false,
     "start_time": "2025-01-24T23:40:32.791995",
     "status": "completed"
    },
    "tags": []
   },
   "outputs": [
    {
     "name": "stdout",
     "output_type": "stream",
     "text": [
      "KNN AUC: 0.9776570623480366\n"
     ]
    }
   ],
   "source": [
    "knn_pred_prob = best_knn.predict_proba(X_test)[:, 1]\n",
    "print(\"KNN AUC:\", roc_auc_score(y_test, knn_pred_prob))"
   ]
  },
  {
   "cell_type": "markdown",
   "id": "dbbfb4c5",
   "metadata": {
    "papermill": {
     "duration": 0.013122,
     "end_time": "2025-01-24T23:40:41.630353",
     "exception": false,
     "start_time": "2025-01-24T23:40:41.617231",
     "status": "completed"
    },
    "tags": []
   },
   "source": [
    "> Decision Tree"
   ]
  },
  {
   "cell_type": "code",
   "execution_count": 28,
   "id": "dddf2a8d",
   "metadata": {
    "execution": {
     "iopub.execute_input": "2025-01-24T23:40:41.658312Z",
     "iopub.status.busy": "2025-01-24T23:40:41.657966Z",
     "iopub.status.idle": "2025-01-24T23:40:41.989686Z",
     "shell.execute_reply": "2025-01-24T23:40:41.988596Z"
    },
    "papermill": {
     "duration": 0.347555,
     "end_time": "2025-01-24T23:40:41.991349",
     "exception": false,
     "start_time": "2025-01-24T23:40:41.643794",
     "status": "completed"
    },
    "tags": []
   },
   "outputs": [
    {
     "data": {
      "text/html": [
       "<style>#sk-container-id-3 {color: black;background-color: white;}#sk-container-id-3 pre{padding: 0;}#sk-container-id-3 div.sk-toggleable {background-color: white;}#sk-container-id-3 label.sk-toggleable__label {cursor: pointer;display: block;width: 100%;margin-bottom: 0;padding: 0.3em;box-sizing: border-box;text-align: center;}#sk-container-id-3 label.sk-toggleable__label-arrow:before {content: \"▸\";float: left;margin-right: 0.25em;color: #696969;}#sk-container-id-3 label.sk-toggleable__label-arrow:hover:before {color: black;}#sk-container-id-3 div.sk-estimator:hover label.sk-toggleable__label-arrow:before {color: black;}#sk-container-id-3 div.sk-toggleable__content {max-height: 0;max-width: 0;overflow: hidden;text-align: left;background-color: #f0f8ff;}#sk-container-id-3 div.sk-toggleable__content pre {margin: 0.2em;color: black;border-radius: 0.25em;background-color: #f0f8ff;}#sk-container-id-3 input.sk-toggleable__control:checked~div.sk-toggleable__content {max-height: 200px;max-width: 100%;overflow: auto;}#sk-container-id-3 input.sk-toggleable__control:checked~label.sk-toggleable__label-arrow:before {content: \"▾\";}#sk-container-id-3 div.sk-estimator input.sk-toggleable__control:checked~label.sk-toggleable__label {background-color: #d4ebff;}#sk-container-id-3 div.sk-label input.sk-toggleable__control:checked~label.sk-toggleable__label {background-color: #d4ebff;}#sk-container-id-3 input.sk-hidden--visually {border: 0;clip: rect(1px 1px 1px 1px);clip: rect(1px, 1px, 1px, 1px);height: 1px;margin: -1px;overflow: hidden;padding: 0;position: absolute;width: 1px;}#sk-container-id-3 div.sk-estimator {font-family: monospace;background-color: #f0f8ff;border: 1px dotted black;border-radius: 0.25em;box-sizing: border-box;margin-bottom: 0.5em;}#sk-container-id-3 div.sk-estimator:hover {background-color: #d4ebff;}#sk-container-id-3 div.sk-parallel-item::after {content: \"\";width: 100%;border-bottom: 1px solid gray;flex-grow: 1;}#sk-container-id-3 div.sk-label:hover label.sk-toggleable__label {background-color: #d4ebff;}#sk-container-id-3 div.sk-serial::before {content: \"\";position: absolute;border-left: 1px solid gray;box-sizing: border-box;top: 0;bottom: 0;left: 50%;z-index: 0;}#sk-container-id-3 div.sk-serial {display: flex;flex-direction: column;align-items: center;background-color: white;padding-right: 0.2em;padding-left: 0.2em;position: relative;}#sk-container-id-3 div.sk-item {position: relative;z-index: 1;}#sk-container-id-3 div.sk-parallel {display: flex;align-items: stretch;justify-content: center;background-color: white;position: relative;}#sk-container-id-3 div.sk-item::before, #sk-container-id-3 div.sk-parallel-item::before {content: \"\";position: absolute;border-left: 1px solid gray;box-sizing: border-box;top: 0;bottom: 0;left: 50%;z-index: -1;}#sk-container-id-3 div.sk-parallel-item {display: flex;flex-direction: column;z-index: 1;position: relative;background-color: white;}#sk-container-id-3 div.sk-parallel-item:first-child::after {align-self: flex-end;width: 50%;}#sk-container-id-3 div.sk-parallel-item:last-child::after {align-self: flex-start;width: 50%;}#sk-container-id-3 div.sk-parallel-item:only-child::after {width: 0;}#sk-container-id-3 div.sk-dashed-wrapped {border: 1px dashed gray;margin: 0 0.4em 0.5em 0.4em;box-sizing: border-box;padding-bottom: 0.4em;background-color: white;}#sk-container-id-3 div.sk-label label {font-family: monospace;font-weight: bold;display: inline-block;line-height: 1.2em;}#sk-container-id-3 div.sk-label-container {text-align: center;}#sk-container-id-3 div.sk-container {/* jupyter's `normalize.less` sets `[hidden] { display: none; }` but bootstrap.min.css set `[hidden] { display: none !important; }` so we also need the `!important` here to be able to override the default hidden behavior on the sphinx rendered scikit-learn.org. See: https://github.com/scikit-learn/scikit-learn/issues/21755 */display: inline-block !important;position: relative;}#sk-container-id-3 div.sk-text-repr-fallback {display: none;}</style><div id=\"sk-container-id-3\" class=\"sk-top-container\"><div class=\"sk-text-repr-fallback\"><pre>DecisionTreeClassifier(max_depth=3, random_state=42)</pre><b>In a Jupyter environment, please rerun this cell to show the HTML representation or trust the notebook. <br />On GitHub, the HTML representation is unable to render, please try loading this page with nbviewer.org.</b></div><div class=\"sk-container\" hidden><div class=\"sk-item\"><div class=\"sk-estimator sk-toggleable\"><input class=\"sk-toggleable__control sk-hidden--visually\" id=\"sk-estimator-id-3\" type=\"checkbox\" checked><label for=\"sk-estimator-id-3\" class=\"sk-toggleable__label sk-toggleable__label-arrow\">DecisionTreeClassifier</label><div class=\"sk-toggleable__content\"><pre>DecisionTreeClassifier(max_depth=3, random_state=42)</pre></div></div></div></div></div>"
      ],
      "text/plain": [
       "DecisionTreeClassifier(max_depth=3, random_state=42)"
      ]
     },
     "execution_count": 28,
     "metadata": {},
     "output_type": "execute_result"
    }
   ],
   "source": [
    "# Use the best max_depth value found during tuning\n",
    "best_tree = DecisionTreeClassifier(max_depth=best_depth, random_state=42)\n",
    "best_tree.fit(X_train, y_train)"
   ]
  },
  {
   "cell_type": "code",
   "execution_count": 29,
   "id": "20138911",
   "metadata": {
    "execution": {
     "iopub.execute_input": "2025-01-24T23:40:42.020410Z",
     "iopub.status.busy": "2025-01-24T23:40:42.020073Z",
     "iopub.status.idle": "2025-01-24T23:40:42.037819Z",
     "shell.execute_reply": "2025-01-24T23:40:42.036816Z"
    },
    "papermill": {
     "duration": 0.033929,
     "end_time": "2025-01-24T23:40:42.039334",
     "exception": false,
     "start_time": "2025-01-24T23:40:42.005405",
     "status": "completed"
    },
    "tags": []
   },
   "outputs": [
    {
     "name": "stdout",
     "output_type": "stream",
     "text": [
      "Decision Tree AUC: 1.0\n"
     ]
    }
   ],
   "source": [
    "tree_pred_prob = best_tree.predict_proba(X_test)[:, 1]\n",
    "print(\"Decision Tree AUC:\", roc_auc_score(y_test, tree_pred_prob))"
   ]
  },
  {
   "cell_type": "markdown",
   "id": "3ec09049",
   "metadata": {
    "papermill": {
     "duration": 0.0134,
     "end_time": "2025-01-24T23:40:42.066607",
     "exception": false,
     "start_time": "2025-01-24T23:40:42.053207",
     "status": "completed"
    },
    "tags": []
   },
   "source": [
    "> Random Forest"
   ]
  },
  {
   "cell_type": "code",
   "execution_count": 30,
   "id": "143d34d0",
   "metadata": {
    "execution": {
     "iopub.execute_input": "2025-01-24T23:40:42.095115Z",
     "iopub.status.busy": "2025-01-24T23:40:42.094738Z",
     "iopub.status.idle": "2025-01-24T23:40:43.704782Z",
     "shell.execute_reply": "2025-01-24T23:40:43.703716Z"
    },
    "papermill": {
     "duration": 1.626001,
     "end_time": "2025-01-24T23:40:43.706263",
     "exception": false,
     "start_time": "2025-01-24T23:40:42.080262",
     "status": "completed"
    },
    "tags": []
   },
   "outputs": [
    {
     "data": {
      "text/html": [
       "<style>#sk-container-id-4 {color: black;background-color: white;}#sk-container-id-4 pre{padding: 0;}#sk-container-id-4 div.sk-toggleable {background-color: white;}#sk-container-id-4 label.sk-toggleable__label {cursor: pointer;display: block;width: 100%;margin-bottom: 0;padding: 0.3em;box-sizing: border-box;text-align: center;}#sk-container-id-4 label.sk-toggleable__label-arrow:before {content: \"▸\";float: left;margin-right: 0.25em;color: #696969;}#sk-container-id-4 label.sk-toggleable__label-arrow:hover:before {color: black;}#sk-container-id-4 div.sk-estimator:hover label.sk-toggleable__label-arrow:before {color: black;}#sk-container-id-4 div.sk-toggleable__content {max-height: 0;max-width: 0;overflow: hidden;text-align: left;background-color: #f0f8ff;}#sk-container-id-4 div.sk-toggleable__content pre {margin: 0.2em;color: black;border-radius: 0.25em;background-color: #f0f8ff;}#sk-container-id-4 input.sk-toggleable__control:checked~div.sk-toggleable__content {max-height: 200px;max-width: 100%;overflow: auto;}#sk-container-id-4 input.sk-toggleable__control:checked~label.sk-toggleable__label-arrow:before {content: \"▾\";}#sk-container-id-4 div.sk-estimator input.sk-toggleable__control:checked~label.sk-toggleable__label {background-color: #d4ebff;}#sk-container-id-4 div.sk-label input.sk-toggleable__control:checked~label.sk-toggleable__label {background-color: #d4ebff;}#sk-container-id-4 input.sk-hidden--visually {border: 0;clip: rect(1px 1px 1px 1px);clip: rect(1px, 1px, 1px, 1px);height: 1px;margin: -1px;overflow: hidden;padding: 0;position: absolute;width: 1px;}#sk-container-id-4 div.sk-estimator {font-family: monospace;background-color: #f0f8ff;border: 1px dotted black;border-radius: 0.25em;box-sizing: border-box;margin-bottom: 0.5em;}#sk-container-id-4 div.sk-estimator:hover {background-color: #d4ebff;}#sk-container-id-4 div.sk-parallel-item::after {content: \"\";width: 100%;border-bottom: 1px solid gray;flex-grow: 1;}#sk-container-id-4 div.sk-label:hover label.sk-toggleable__label {background-color: #d4ebff;}#sk-container-id-4 div.sk-serial::before {content: \"\";position: absolute;border-left: 1px solid gray;box-sizing: border-box;top: 0;bottom: 0;left: 50%;z-index: 0;}#sk-container-id-4 div.sk-serial {display: flex;flex-direction: column;align-items: center;background-color: white;padding-right: 0.2em;padding-left: 0.2em;position: relative;}#sk-container-id-4 div.sk-item {position: relative;z-index: 1;}#sk-container-id-4 div.sk-parallel {display: flex;align-items: stretch;justify-content: center;background-color: white;position: relative;}#sk-container-id-4 div.sk-item::before, #sk-container-id-4 div.sk-parallel-item::before {content: \"\";position: absolute;border-left: 1px solid gray;box-sizing: border-box;top: 0;bottom: 0;left: 50%;z-index: -1;}#sk-container-id-4 div.sk-parallel-item {display: flex;flex-direction: column;z-index: 1;position: relative;background-color: white;}#sk-container-id-4 div.sk-parallel-item:first-child::after {align-self: flex-end;width: 50%;}#sk-container-id-4 div.sk-parallel-item:last-child::after {align-self: flex-start;width: 50%;}#sk-container-id-4 div.sk-parallel-item:only-child::after {width: 0;}#sk-container-id-4 div.sk-dashed-wrapped {border: 1px dashed gray;margin: 0 0.4em 0.5em 0.4em;box-sizing: border-box;padding-bottom: 0.4em;background-color: white;}#sk-container-id-4 div.sk-label label {font-family: monospace;font-weight: bold;display: inline-block;line-height: 1.2em;}#sk-container-id-4 div.sk-label-container {text-align: center;}#sk-container-id-4 div.sk-container {/* jupyter's `normalize.less` sets `[hidden] { display: none; }` but bootstrap.min.css set `[hidden] { display: none !important; }` so we also need the `!important` here to be able to override the default hidden behavior on the sphinx rendered scikit-learn.org. See: https://github.com/scikit-learn/scikit-learn/issues/21755 */display: inline-block !important;position: relative;}#sk-container-id-4 div.sk-text-repr-fallback {display: none;}</style><div id=\"sk-container-id-4\" class=\"sk-top-container\"><div class=\"sk-text-repr-fallback\"><pre>RandomForestClassifier(n_estimators=50, n_jobs=-1, random_state=42)</pre><b>In a Jupyter environment, please rerun this cell to show the HTML representation or trust the notebook. <br />On GitHub, the HTML representation is unable to render, please try loading this page with nbviewer.org.</b></div><div class=\"sk-container\" hidden><div class=\"sk-item\"><div class=\"sk-estimator sk-toggleable\"><input class=\"sk-toggleable__control sk-hidden--visually\" id=\"sk-estimator-id-4\" type=\"checkbox\" checked><label for=\"sk-estimator-id-4\" class=\"sk-toggleable__label sk-toggleable__label-arrow\">RandomForestClassifier</label><div class=\"sk-toggleable__content\"><pre>RandomForestClassifier(n_estimators=50, n_jobs=-1, random_state=42)</pre></div></div></div></div></div>"
      ],
      "text/plain": [
       "RandomForestClassifier(n_estimators=50, n_jobs=-1, random_state=42)"
      ]
     },
     "execution_count": 30,
     "metadata": {},
     "output_type": "execute_result"
    }
   ],
   "source": [
    "# Use the best n_estimators value found during tuning\n",
    "best_forest = RandomForestClassifier(n_estimators=best_n_estimators, random_state=42, n_jobs=-1)\n",
    "best_forest.fit(X_train, y_train)"
   ]
  },
  {
   "cell_type": "code",
   "execution_count": 31,
   "id": "e6054d7a",
   "metadata": {
    "execution": {
     "iopub.execute_input": "2025-01-24T23:40:43.735066Z",
     "iopub.status.busy": "2025-01-24T23:40:43.734701Z",
     "iopub.status.idle": "2025-01-24T23:40:43.808597Z",
     "shell.execute_reply": "2025-01-24T23:40:43.807527Z"
    },
    "papermill": {
     "duration": 0.089923,
     "end_time": "2025-01-24T23:40:43.810204",
     "exception": false,
     "start_time": "2025-01-24T23:40:43.720281",
     "status": "completed"
    },
    "tags": []
   },
   "outputs": [
    {
     "name": "stdout",
     "output_type": "stream",
     "text": [
      "Random Forest AUC: 1.0\n"
     ]
    }
   ],
   "source": [
    "forest_pred_prob = best_forest.predict_proba(X_test)[:, 1]\n",
    "print(\"Random Forest AUC:\", roc_auc_score(y_test, forest_pred_prob))"
   ]
  },
  {
   "cell_type": "markdown",
   "id": "af87522e",
   "metadata": {
    "papermill": {
     "duration": 0.013573,
     "end_time": "2025-01-24T23:40:43.837973",
     "exception": false,
     "start_time": "2025-01-24T23:40:43.824400",
     "status": "completed"
    },
    "tags": []
   },
   "source": [
    "**V. EVALUATE AND COMPARE MODELS**"
   ]
  },
  {
   "cell_type": "code",
   "execution_count": 32,
   "id": "1864cd28",
   "metadata": {
    "execution": {
     "iopub.execute_input": "2025-01-24T23:40:43.867285Z",
     "iopub.status.busy": "2025-01-24T23:40:43.866941Z",
     "iopub.status.idle": "2025-01-24T23:40:43.875241Z",
     "shell.execute_reply": "2025-01-24T23:40:43.874213Z"
    },
    "papermill": {
     "duration": 0.024791,
     "end_time": "2025-01-24T23:40:43.876932",
     "exception": false,
     "start_time": "2025-01-24T23:40:43.852141",
     "status": "completed"
    },
    "tags": []
   },
   "outputs": [],
   "source": [
    "def evaluate_model(model, X_test, y_test, model_name):\n",
    "    # Predict class and probabilities\n",
    "    y_pred = model.predict(X_test)\n",
    "    y_pred_prob = model.predict_proba(X_test)[:, 1]\n",
    "\n",
    "    # Accuracy Score\n",
    "    accuracy = accuracy_score(y_test, y_pred)\n",
    "\n",
    "    # Confusion Matrix\n",
    "    conf_matrix = confusion_matrix(y_test, y_pred)\n",
    "\n",
    "    # Classification Report\n",
    "    class_report = classification_report(y_test, y_pred)\n",
    "\n",
    "    # ROC-AUC Score\n",
    "    roc_auc = roc_auc_score(y_test, y_pred_prob)\n",
    "\n",
    "    # ROC Curve\n",
    "    fpr, tpr, _ = roc_curve(y_test, y_pred_prob)\n",
    "\n",
    "    # Plot ROC Curve\n",
    "    plt.figure(figsize=(8, 6))\n",
    "    plt.plot(fpr, tpr, label=f'{model_name} (AUC = {roc_auc:.2f})', lw=2)\n",
    "    plt.plot([0, 1], [0, 1], 'k--', lw=2, alpha=0.7)\n",
    "    plt.title(f'ROC Curve - {model_name}', fontsize=16)\n",
    "    plt.xlabel('False Positive Rate', fontsize=12)\n",
    "    plt.ylabel('True Positive Rate', fontsize=12)\n",
    "    plt.legend(loc='lower right')\n",
    "    plt.grid(alpha=0.7)\n",
    "    plt.show()\n",
    "\n",
    "    # Print Evaluation Metrics\n",
    "    print(f\"Model: {model_name}\")\n",
    "    print(f\"Accuracy: {accuracy:.2f}\")\n",
    "    print(\"Confusion Matrix:\")\n",
    "    print(conf_matrix)\n",
    "    print(\"Classification Report:\")\n",
    "    print(class_report)\n",
    "    print(f\"ROC-AUC Score: {roc_auc:.2f}\")\n",
    "    print(\"-\" * 50)"
   ]
  },
  {
   "cell_type": "code",
   "execution_count": 33,
   "id": "eee7f452",
   "metadata": {
    "execution": {
     "iopub.execute_input": "2025-01-24T23:40:43.906886Z",
     "iopub.status.busy": "2025-01-24T23:40:43.906528Z",
     "iopub.status.idle": "2025-01-24T23:41:04.577591Z",
     "shell.execute_reply": "2025-01-24T23:41:04.576530Z"
    },
    "papermill": {
     "duration": 20.688015,
     "end_time": "2025-01-24T23:41:04.579055",
     "exception": false,
     "start_time": "2025-01-24T23:40:43.891040",
     "status": "completed"
    },
    "tags": []
   },
   "outputs": [
    {
     "data": {
      "image/png": "[encoded data removed]",
      "text/plain": [
       "<Figure size 800x600 with 1 Axes>"
      ]
     },
     "metadata": {},
     "output_type": "display_data"
    },
    {
     "name": "stdout",
     "output_type": "stream",
     "text": [
      "Model: Logistic Regression\n",
      "Accuracy: 0.86\n",
      "Confusion Matrix:\n",
      "[[22438    20]\n",
      " [ 4164  3112]]\n",
      "Classification Report:\n",
      "              precision    recall  f1-score   support\n",
      "\n",
      "           0       0.84      1.00      0.91     22458\n",
      "           1       0.99      0.43      0.60      7276\n",
      "\n",
      "    accuracy                           0.86     29734\n",
      "   macro avg       0.92      0.71      0.76     29734\n",
      "weighted avg       0.88      0.86      0.84     29734\n",
      "\n",
      "ROC-AUC Score: 0.80\n",
      "--------------------------------------------------\n"
     ]
    },
    {
     "data": {
      "image/png": "[encoded data removed]",
      "text/plain": [
       "<Figure size 800x600 with 1 Axes>"
      ]
     },
     "metadata": {},
     "output_type": "display_data"
    },
    {
     "name": "stdout",
     "output_type": "stream",
     "text": [
      "Model: KNN\n",
      "Accuracy: 0.93\n",
      "Confusion Matrix:\n",
      "[[21181  1277]\n",
      " [  877  6399]]\n",
      "Classification Report:\n",
      "              precision    recall  f1-score   support\n",
      "\n",
      "           0       0.96      0.94      0.95     22458\n",
      "           1       0.83      0.88      0.86      7276\n",
      "\n",
      "    accuracy                           0.93     29734\n",
      "   macro avg       0.90      0.91      0.90     29734\n",
      "weighted avg       0.93      0.93      0.93     29734\n",
      "\n",
      "ROC-AUC Score: 0.98\n",
      "--------------------------------------------------\n"
     ]
    },
    {
     "data": {
      "image/png": "[encoded data removed]",
      "text/plain": [
       "<Figure size 800x600 with 1 Axes>"
      ]
     },
     "metadata": {},
     "output_type": "display_data"
    },
    {
     "name": "stdout",
     "output_type": "stream",
     "text": [
      "Model: Decision Tree\n",
      "Accuracy: 1.00\n",
      "Confusion Matrix:\n",
      "[[22458     0]\n",
      " [    0  7276]]\n",
      "Classification Report:\n",
      "              precision    recall  f1-score   support\n",
      "\n",
      "           0       1.00      1.00      1.00     22458\n",
      "           1       1.00      1.00      1.00      7276\n",
      "\n",
      "    accuracy                           1.00     29734\n",
      "   macro avg       1.00      1.00      1.00     29734\n",
      "weighted avg       1.00      1.00      1.00     29734\n",
      "\n",
      "ROC-AUC Score: 1.00\n",
      "--------------------------------------------------\n"
     ]
    },
    {
     "data": {
      "image/png": "[encoded data removed]",
      "text/plain": [
       "<Figure size 800x600 with 1 Axes>"
      ]
     },
     "metadata": {},
     "output_type": "display_data"
    },
    {
     "name": "stdout",
     "output_type": "stream",
     "text": [
      "Model: Random Forest\n",
      "Accuracy: 1.00\n",
      "Confusion Matrix:\n",
      "[[22458     0]\n",
      " [    0  7276]]\n",
      "Classification Report:\n",
      "              precision    recall  f1-score   support\n",
      "\n",
      "           0       1.00      1.00      1.00     22458\n",
      "           1       1.00      1.00      1.00      7276\n",
      "\n",
      "    accuracy                           1.00     29734\n",
      "   macro avg       1.00      1.00      1.00     29734\n",
      "weighted avg       1.00      1.00      1.00     29734\n",
      "\n",
      "ROC-AUC Score: 1.00\n",
      "--------------------------------------------------\n"
     ]
    }
   ],
   "source": [
    "# Logistic Regression\n",
    "evaluate_model(best_log_reg, X_test, y_test, \"Logistic Regression\")\n",
    "\n",
    "# KNN\n",
    "evaluate_model(best_knn, X_test, y_test, \"KNN\")\n",
    "\n",
    "# Decision Tree\n",
    "evaluate_model(best_tree, X_test, y_test, \"Decision Tree\")\n",
    "\n",
    "# Random Forest\n",
    "evaluate_model(best_forest, X_test, y_test, \"Random Forest\")"
   ]
  },
  {
   "cell_type": "code",
   "execution_count": 34,
   "id": "45792871",
   "metadata": {
    "execution": {
     "iopub.execute_input": "2025-01-24T23:41:04.617871Z",
     "iopub.status.busy": "2025-01-24T23:41:04.617440Z",
     "iopub.status.idle": "2025-01-24T23:41:04.626378Z",
     "shell.execute_reply": "2025-01-24T23:41:04.625305Z"
    },
    "papermill": {
     "duration": 0.02984,
     "end_time": "2025-01-24T23:41:04.627855",
     "exception": false,
     "start_time": "2025-01-24T23:41:04.598015",
     "status": "completed"
    },
    "tags": []
   },
   "outputs": [
    {
     "name": "stdout",
     "output_type": "stream",
     "text": [
      "                 Model  Accuracy  ROC-AUC\n",
      "0  Logistic Regression      0.86     0.80\n",
      "1                  KNN      0.93     0.98\n",
      "2        Decision Tree      1.00     1.00\n",
      "3        Random Forest      1.00     1.00\n"
     ]
    }
   ],
   "source": [
    "comparison_data = {\n",
    "    'Model': ['Logistic Regression', 'KNN', 'Decision Tree', 'Random Forest'],\n",
    "    'Accuracy': [0.86, 0.93, 1.00, 1.00],\n",
    "    'ROC-AUC': [0.80, 0.98, 1.00, 1.00],\n",
    "}\n",
    "\n",
    "comparison_df = pd.DataFrame(comparison_data)\n",
    "print(comparison_df)"
   ]
  },
  {
   "cell_type": "markdown",
   "id": "8aa3c932",
   "metadata": {
    "papermill": {
     "duration": 0.018353,
     "end_time": "2025-01-24T23:41:04.664798",
     "exception": false,
     "start_time": "2025-01-24T23:41:04.646445",
     "status": "completed"
    },
    "tags": []
   },
   "source": [
    "There are two models, Decision Tree and Random Forest, that had neatly 100% accuracy (only 1 False Positive). However, I guess that they might be overfitting because of my cleansing process. I don't know how to fix them, so I will just ignore them. KNN is the model with the higher accuracy and ROC-AUC score, so I think this is my final result. "
   ]
  }
 ],
 "metadata": {
  "kaggle": {
   "accelerator": "none",
   "dataSources": [
    {
     "datasetId": 1897041,
     "sourceId": 3106815,
     "sourceType": "datasetVersion"
    }
   ],
   "dockerImageVersionId": 30839,
   "isGpuEnabled": false,
   "isInternetEnabled": true,
   "language": "python",
   "sourceType": "notebook"
  },
  "kernelspec": {
   "display_name": "Python 3",
   "language": "python",
   "name": "python3"
  },
  "language_info": {
   "codemirror_mode": {
    "name": "ipython",
    "version": 3
   },
   "file_extension": ".py",
   "mimetype": "text/x-python",
   "name": "python",
   "nbconvert_exporter": "python",
   "pygments_lexer": "ipython3",
   "version": "3.10.12"
  },
  "papermill": {
   "default_parameters": {},
   "duration": 111.675403,
   "end_time": "2025-01-24T23:41:05.505711",
   "environment_variables": {},
   "exception": null,
   "input_path": "__notebook__.ipynb",
   "output_path": "__notebook__.ipynb",
   "parameters": {},
   "start_time": "2025-01-24T23:39:13.830308",
   "version": "2.6.0"
  }
 },
 "nbformat": 4,
 "nbformat_minor": 5
}
