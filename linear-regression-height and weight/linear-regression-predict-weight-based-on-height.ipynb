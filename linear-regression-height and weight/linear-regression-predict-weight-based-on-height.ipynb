{
 "cells": [
  {
   "cell_type": "markdown",
   "id": "3fe50449",
   "metadata": {
    "papermill": {
     "duration": 0.005387,
     "end_time": "2025-01-18T22:59:45.319468",
     "exception": false,
     "start_time": "2025-01-18T22:59:45.314081",
     "status": "completed"
    },
    "tags": []
   },
   "source": [
    "This is my first notebook to practice working with Machine Learning in the Data Science field. Before jumping into this project, I'd like to comment on this dataset. The prediction will probably be incorrect because there are only 15 rows of value. Also, this dataset is limited to American women aged 30-39, which is a pretty narrow group to give predictions."
   ]
  },
  {
   "cell_type": "code",
   "execution_count": 1,
   "id": "7d9ccb73",
   "metadata": {
    "execution": {
     "iopub.execute_input": "2025-01-18T22:59:45.329522Z",
     "iopub.status.busy": "2025-01-18T22:59:45.329178Z",
     "iopub.status.idle": "2025-01-18T22:59:45.334663Z",
     "shell.execute_reply": "2025-01-18T22:59:45.333771Z"
    },
    "papermill": {
     "duration": 0.012499,
     "end_time": "2025-01-18T22:59:45.336427",
     "exception": false,
     "start_time": "2025-01-18T22:59:45.323928",
     "status": "completed"
    },
    "tags": []
   },
   "outputs": [],
   "source": [
    "# I want to see all of the outcome, so I import InteractiveShell\n",
    "from IPython.core.interactiveshell import InteractiveShell\n",
    "InteractiveShell.ast_node_interactivity = 'all'"
   ]
  },
  {
   "cell_type": "code",
   "execution_count": 2,
   "id": "aba53ae1",
   "metadata": {
    "_cell_guid": "b1076dfc-b9ad-4769-8c92-a6c4dae69d19",
    "_uuid": "8f2839f25d086af736a60e9eeb907d3b93b6e0e5",
    "execution": {
     "iopub.execute_input": "2025-01-18T22:59:45.346401Z",
     "iopub.status.busy": "2025-01-18T22:59:45.346070Z",
     "iopub.status.idle": "2025-01-18T22:59:48.114274Z",
     "shell.execute_reply": "2025-01-18T22:59:48.113082Z"
    },
    "papermill": {
     "duration": 2.775467,
     "end_time": "2025-01-18T22:59:48.116360",
     "exception": false,
     "start_time": "2025-01-18T22:59:45.340893",
     "status": "completed"
    },
    "tags": []
   },
   "outputs": [],
   "source": [
    "#import necessary libraries\n",
    "import numpy as np\n",
    "import pandas as pd\n",
    "import matplotlib.pyplot as plt\n",
    "from sklearn.linear_model import LinearRegression\n",
    "from sklearn.neighbors import KNeighborsRegressor\n",
    "from sklearn.model_selection import train_test_split\n",
    "from sklearn.metrics import mean_squared_error"
   ]
  },
  {
   "cell_type": "code",
   "execution_count": 3,
   "id": "ea54cdce",
   "metadata": {
    "execution": {
     "iopub.execute_input": "2025-01-18T22:59:48.126585Z",
     "iopub.status.busy": "2025-01-18T22:59:48.126041Z",
     "iopub.status.idle": "2025-01-18T22:59:48.145958Z",
     "shell.execute_reply": "2025-01-18T22:59:48.145002Z"
    },
    "papermill": {
     "duration": 0.026993,
     "end_time": "2025-01-18T22:59:48.147837",
     "exception": false,
     "start_time": "2025-01-18T22:59:48.120844",
     "status": "completed"
    },
    "tags": []
   },
   "outputs": [],
   "source": [
    "# Loading the dataset\n",
    "heiwei = pd.read_csv('/kaggle/input/heights-and-weights/data.csv')"
   ]
  },
  {
   "cell_type": "markdown",
   "id": "b927c8ac",
   "metadata": {
    "papermill": {
     "duration": 0.003928,
     "end_time": "2025-01-18T22:59:48.156371",
     "exception": false,
     "start_time": "2025-01-18T22:59:48.152443",
     "status": "completed"
    },
    "tags": []
   },
   "source": [
    "**I. OVERVIEW**\n",
    "\n",
    "First, let's take a look at the dataset we want to work with. I want to see if there are anything we should pay attention to before jumping into our work."
   ]
  },
  {
   "cell_type": "code",
   "execution_count": 4,
   "id": "7b92be64",
   "metadata": {
    "execution": {
     "iopub.execute_input": "2025-01-18T22:59:48.166374Z",
     "iopub.status.busy": "2025-01-18T22:59:48.165988Z",
     "iopub.status.idle": "2025-01-18T22:59:48.195735Z",
     "shell.execute_reply": "2025-01-18T22:59:48.194555Z"
    },
    "papermill": {
     "duration": 0.037592,
     "end_time": "2025-01-18T22:59:48.198111",
     "exception": false,
     "start_time": "2025-01-18T22:59:48.160519",
     "status": "completed"
    },
    "tags": []
   },
   "outputs": [
    {
     "data": {
      "text/html": [
       "<div>\n",
       "<style scoped>\n",
       "    .dataframe tbody tr th:only-of-type {\n",
       "        vertical-align: middle;\n",
       "    }\n",
       "\n",
       "    .dataframe tbody tr th {\n",
       "        vertical-align: top;\n",
       "    }\n",
       "\n",
       "    .dataframe thead th {\n",
       "        text-align: right;\n",
       "    }\n",
       "</style>\n",
       "<table border=\"1\" class=\"dataframe\">\n",
       "  <thead>\n",
       "    <tr style=\"text-align: right;\">\n",
       "      <th></th>\n",
       "      <th>Height</th>\n",
       "      <th>Weight</th>\n",
       "    </tr>\n",
       "  </thead>\n",
       "  <tbody>\n",
       "    <tr>\n",
       "      <th>0</th>\n",
       "      <td>1.47</td>\n",
       "      <td>52.21</td>\n",
       "    </tr>\n",
       "    <tr>\n",
       "      <th>1</th>\n",
       "      <td>1.50</td>\n",
       "      <td>53.12</td>\n",
       "    </tr>\n",
       "    <tr>\n",
       "      <th>2</th>\n",
       "      <td>1.52</td>\n",
       "      <td>54.48</td>\n",
       "    </tr>\n",
       "    <tr>\n",
       "      <th>3</th>\n",
       "      <td>1.55</td>\n",
       "      <td>55.84</td>\n",
       "    </tr>\n",
       "    <tr>\n",
       "      <th>4</th>\n",
       "      <td>1.57</td>\n",
       "      <td>57.20</td>\n",
       "    </tr>\n",
       "  </tbody>\n",
       "</table>\n",
       "</div>"
      ],
      "text/plain": [
       "   Height  Weight\n",
       "0    1.47   52.21\n",
       "1    1.50   53.12\n",
       "2    1.52   54.48\n",
       "3    1.55   55.84\n",
       "4    1.57   57.20"
      ]
     },
     "execution_count": 4,
     "metadata": {},
     "output_type": "execute_result"
    },
    {
     "name": "stdout",
     "output_type": "stream",
     "text": [
      "\n"
     ]
    },
    {
     "data": {
      "text/html": [
       "<div>\n",
       "<style scoped>\n",
       "    .dataframe tbody tr th:only-of-type {\n",
       "        vertical-align: middle;\n",
       "    }\n",
       "\n",
       "    .dataframe tbody tr th {\n",
       "        vertical-align: top;\n",
       "    }\n",
       "\n",
       "    .dataframe thead th {\n",
       "        text-align: right;\n",
       "    }\n",
       "</style>\n",
       "<table border=\"1\" class=\"dataframe\">\n",
       "  <thead>\n",
       "    <tr style=\"text-align: right;\">\n",
       "      <th></th>\n",
       "      <th>Height</th>\n",
       "      <th>Weight</th>\n",
       "    </tr>\n",
       "  </thead>\n",
       "  <tbody>\n",
       "    <tr>\n",
       "      <th>10</th>\n",
       "      <td>1.73</td>\n",
       "      <td>66.28</td>\n",
       "    </tr>\n",
       "    <tr>\n",
       "      <th>11</th>\n",
       "      <td>1.75</td>\n",
       "      <td>68.10</td>\n",
       "    </tr>\n",
       "    <tr>\n",
       "      <th>12</th>\n",
       "      <td>1.78</td>\n",
       "      <td>69.92</td>\n",
       "    </tr>\n",
       "    <tr>\n",
       "      <th>13</th>\n",
       "      <td>1.80</td>\n",
       "      <td>72.19</td>\n",
       "    </tr>\n",
       "    <tr>\n",
       "      <th>14</th>\n",
       "      <td>1.83</td>\n",
       "      <td>74.46</td>\n",
       "    </tr>\n",
       "  </tbody>\n",
       "</table>\n",
       "</div>"
      ],
      "text/plain": [
       "    Height  Weight\n",
       "10    1.73   66.28\n",
       "11    1.75   68.10\n",
       "12    1.78   69.92\n",
       "13    1.80   72.19\n",
       "14    1.83   74.46"
      ]
     },
     "execution_count": 4,
     "metadata": {},
     "output_type": "execute_result"
    }
   ],
   "source": [
    "# Check if there are any strange values in the dataset by looking at the first and last 5 rows of the data set\n",
    "heiwei.head()\n",
    "print( )\n",
    "heiwei.tail()"
   ]
  },
  {
   "cell_type": "code",
   "execution_count": 5,
   "id": "6eec78ac",
   "metadata": {
    "execution": {
     "iopub.execute_input": "2025-01-18T22:59:48.209132Z",
     "iopub.status.busy": "2025-01-18T22:59:48.208718Z",
     "iopub.status.idle": "2025-01-18T22:59:48.246613Z",
     "shell.execute_reply": "2025-01-18T22:59:48.245478Z"
    },
    "papermill": {
     "duration": 0.045273,
     "end_time": "2025-01-18T22:59:48.248408",
     "exception": false,
     "start_time": "2025-01-18T22:59:48.203135",
     "status": "completed"
    },
    "tags": []
   },
   "outputs": [
    {
     "name": "stdout",
     "output_type": "stream",
     "text": [
      "<class 'pandas.core.frame.DataFrame'>\n",
      "RangeIndex: 15 entries, 0 to 14\n",
      "Data columns (total 2 columns):\n",
      " #   Column  Non-Null Count  Dtype  \n",
      "---  ------  --------------  -----  \n",
      " 0   Height  15 non-null     float64\n",
      " 1   Weight  15 non-null     float64\n",
      "dtypes: float64(2)\n",
      "memory usage: 368.0 bytes\n",
      "\n"
     ]
    },
    {
     "data": {
      "text/html": [
       "<div>\n",
       "<style scoped>\n",
       "    .dataframe tbody tr th:only-of-type {\n",
       "        vertical-align: middle;\n",
       "    }\n",
       "\n",
       "    .dataframe tbody tr th {\n",
       "        vertical-align: top;\n",
       "    }\n",
       "\n",
       "    .dataframe thead th {\n",
       "        text-align: right;\n",
       "    }\n",
       "</style>\n",
       "<table border=\"1\" class=\"dataframe\">\n",
       "  <thead>\n",
       "    <tr style=\"text-align: right;\">\n",
       "      <th></th>\n",
       "      <th>Height</th>\n",
       "      <th>Weight</th>\n",
       "    </tr>\n",
       "  </thead>\n",
       "  <tbody>\n",
       "    <tr>\n",
       "      <th>count</th>\n",
       "      <td>15.000000</td>\n",
       "      <td>15.000000</td>\n",
       "    </tr>\n",
       "    <tr>\n",
       "      <th>mean</th>\n",
       "      <td>1.650667</td>\n",
       "      <td>62.078000</td>\n",
       "    </tr>\n",
       "    <tr>\n",
       "      <th>std</th>\n",
       "      <td>0.114235</td>\n",
       "      <td>7.037515</td>\n",
       "    </tr>\n",
       "    <tr>\n",
       "      <th>min</th>\n",
       "      <td>1.470000</td>\n",
       "      <td>52.210000</td>\n",
       "    </tr>\n",
       "    <tr>\n",
       "      <th>25%</th>\n",
       "      <td>1.560000</td>\n",
       "      <td>56.520000</td>\n",
       "    </tr>\n",
       "    <tr>\n",
       "      <th>50%</th>\n",
       "      <td>1.650000</td>\n",
       "      <td>61.290000</td>\n",
       "    </tr>\n",
       "    <tr>\n",
       "      <th>75%</th>\n",
       "      <td>1.740000</td>\n",
       "      <td>67.190000</td>\n",
       "    </tr>\n",
       "    <tr>\n",
       "      <th>max</th>\n",
       "      <td>1.830000</td>\n",
       "      <td>74.460000</td>\n",
       "    </tr>\n",
       "  </tbody>\n",
       "</table>\n",
       "</div>"
      ],
      "text/plain": [
       "          Height     Weight\n",
       "count  15.000000  15.000000\n",
       "mean    1.650667  62.078000\n",
       "std     0.114235   7.037515\n",
       "min     1.470000  52.210000\n",
       "25%     1.560000  56.520000\n",
       "50%     1.650000  61.290000\n",
       "75%     1.740000  67.190000\n",
       "max     1.830000  74.460000"
      ]
     },
     "execution_count": 5,
     "metadata": {},
     "output_type": "execute_result"
    }
   ],
   "source": [
    "# Take a look at some basic characteristics in the dataset \n",
    "heiwei.info()\n",
    "print( )\n",
    "heiwei.describe()"
   ]
  },
  {
   "cell_type": "markdown",
   "id": "0d54de85",
   "metadata": {
    "papermill": {
     "duration": 0.00463,
     "end_time": "2025-01-18T22:59:48.258181",
     "exception": false,
     "start_time": "2025-01-18T22:59:48.253551",
     "status": "completed"
    },
    "tags": []
   },
   "source": [
    "**II. GRAPHING AND APPLYING LINEAR REGRESSION MODEL**\n",
    "\n",
    "After checking, besides having too small sample, the dataset is very clean with no NaN or missig values. Now, we can start working on our model."
   ]
  },
  {
   "cell_type": "code",
   "execution_count": 6,
   "id": "1080d6f9",
   "metadata": {
    "execution": {
     "iopub.execute_input": "2025-01-18T22:59:48.269226Z",
     "iopub.status.busy": "2025-01-18T22:59:48.268799Z",
     "iopub.status.idle": "2025-01-18T22:59:48.280500Z",
     "shell.execute_reply": "2025-01-18T22:59:48.279359Z"
    },
    "papermill": {
     "duration": 0.018954,
     "end_time": "2025-01-18T22:59:48.282098",
     "exception": false,
     "start_time": "2025-01-18T22:59:48.263144",
     "status": "completed"
    },
    "tags": []
   },
   "outputs": [
    {
     "data": {
      "text/plain": [
       "(15, 1)"
      ]
     },
     "execution_count": 6,
     "metadata": {},
     "output_type": "execute_result"
    },
    {
     "data": {
      "text/plain": [
       "(15, 1)"
      ]
     },
     "execution_count": 6,
     "metadata": {},
     "output_type": "execute_result"
    }
   ],
   "source": [
    "# Define the feature (Height) and the target (Weight) as two Numpy arrays\n",
    "y = heiwei['Weight'].values.reshape(-1, 1)\n",
    "X = heiwei.drop('Weight', axis = 1)\n",
    "\n",
    "# Check the dimensions of X and y\n",
    "y.shape\n",
    "X.shape"
   ]
  },
  {
   "cell_type": "code",
   "execution_count": 7,
   "id": "7881290f",
   "metadata": {
    "execution": {
     "iopub.execute_input": "2025-01-18T22:59:48.293619Z",
     "iopub.status.busy": "2025-01-18T22:59:48.293242Z",
     "iopub.status.idle": "2025-01-18T22:59:48.706318Z",
     "shell.execute_reply": "2025-01-18T22:59:48.705009Z"
    },
    "papermill": {
     "duration": 0.420915,
     "end_time": "2025-01-18T22:59:48.708113",
     "exception": false,
     "start_time": "2025-01-18T22:59:48.287198",
     "status": "completed"
    },
    "tags": []
   },
   "outputs": [
    {
     "data": {
      "text/plain": [
       "<Axes: xlabel='Height', ylabel='Weight'>"
      ]
     },
     "execution_count": 7,
     "metadata": {},
     "output_type": "execute_result"
    },
    {
     "data": {
      "text/plain": [
       "[<matplotlib.lines.Line2D at 0x7fe5768a4460>]"
      ]
     },
     "execution_count": 7,
     "metadata": {},
     "output_type": "execute_result"
    },
    {
     "data": {
      "image/png": "[encoded data removed]",
      "text/plain": [
       "<Figure size 1000x700 with 1 Axes>"
      ]
     },
     "metadata": {},
     "output_type": "display_data"
    }
   ],
   "source": [
    "# Plot the scatterplot\n",
    "heiwei.plot(kind = 'scatter', x = 'Height', y = 'Weight', c ='g',\n",
    "            figsize = (10,7),\n",
    "            alpha = 0.5)\n",
    "\n",
    "# Add a linear regression line\n",
    "beta1, beta0 = np.polyfit(heiwei['Height'], heiwei['Weight'], 1)\n",
    "plt.plot(heiwei['Height'], beta1 * heiwei['Height'] + beta0, 'r')"
   ]
  },
  {
   "cell_type": "markdown",
   "id": "aa883db2",
   "metadata": {
    "papermill": {
     "duration": 0.005699,
     "end_time": "2025-01-18T22:59:48.719745",
     "exception": false,
     "start_time": "2025-01-18T22:59:48.714046",
     "status": "completed"
    },
    "tags": []
   },
   "source": [
    "**III. CREATE AND TRAIN THE LINEAR REGRESSION MODEL USING SCI-KIT LEARN**\n",
    "\n",
    "This is the main part of this notebook where we start working on our model and give predictions"
   ]
  },
  {
   "cell_type": "code",
   "execution_count": 8,
   "id": "5da14176",
   "metadata": {
    "execution": {
     "iopub.execute_input": "2025-01-18T22:59:48.732774Z",
     "iopub.status.busy": "2025-01-18T22:59:48.732420Z",
     "iopub.status.idle": "2025-01-18T22:59:48.738919Z",
     "shell.execute_reply": "2025-01-18T22:59:48.737774Z"
    },
    "papermill": {
     "duration": 0.015084,
     "end_time": "2025-01-18T22:59:48.740691",
     "exception": false,
     "start_time": "2025-01-18T22:59:48.725607",
     "status": "completed"
    },
    "tags": []
   },
   "outputs": [],
   "source": [
    "# Split data into train and test datasets\n",
    "X_train, X_test, y_train, y_test = train_test_split(\n",
    "    X, # feature\n",
    "    y, # target\n",
    "    test_size = 0.1, # 10% data to be included in the test set\n",
    "    random_state = 42 # specify random seed for results replication\n",
    ")"
   ]
  },
  {
   "cell_type": "code",
   "execution_count": 9,
   "id": "a6582ded",
   "metadata": {
    "execution": {
     "iopub.execute_input": "2025-01-18T22:59:48.753627Z",
     "iopub.status.busy": "2025-01-18T22:59:48.753295Z",
     "iopub.status.idle": "2025-01-18T22:59:48.769124Z",
     "shell.execute_reply": "2025-01-18T22:59:48.767988Z"
    },
    "papermill": {
     "duration": 0.024257,
     "end_time": "2025-01-18T22:59:48.770871",
     "exception": false,
     "start_time": "2025-01-18T22:59:48.746614",
     "status": "completed"
    },
    "tags": []
   },
   "outputs": [
    {
     "data": {
      "text/html": [
       "<style>#sk-container-id-1 {color: black;background-color: white;}#sk-container-id-1 pre{padding: 0;}#sk-container-id-1 div.sk-toggleable {background-color: white;}#sk-container-id-1 label.sk-toggleable__label {cursor: pointer;display: block;width: 100%;margin-bottom: 0;padding: 0.3em;box-sizing: border-box;text-align: center;}#sk-container-id-1 label.sk-toggleable__label-arrow:before {content: \"▸\";float: left;margin-right: 0.25em;color: #696969;}#sk-container-id-1 label.sk-toggleable__label-arrow:hover:before {color: black;}#sk-container-id-1 div.sk-estimator:hover label.sk-toggleable__label-arrow:before {color: black;}#sk-container-id-1 div.sk-toggleable__content {max-height: 0;max-width: 0;overflow: hidden;text-align: left;background-color: #f0f8ff;}#sk-container-id-1 div.sk-toggleable__content pre {margin: 0.2em;color: black;border-radius: 0.25em;background-color: #f0f8ff;}#sk-container-id-1 input.sk-toggleable__control:checked~div.sk-toggleable__content {max-height: 200px;max-width: 100%;overflow: auto;}#sk-container-id-1 input.sk-toggleable__control:checked~label.sk-toggleable__label-arrow:before {content: \"▾\";}#sk-container-id-1 div.sk-estimator input.sk-toggleable__control:checked~label.sk-toggleable__label {background-color: #d4ebff;}#sk-container-id-1 div.sk-label input.sk-toggleable__control:checked~label.sk-toggleable__label {background-color: #d4ebff;}#sk-container-id-1 input.sk-hidden--visually {border: 0;clip: rect(1px 1px 1px 1px);clip: rect(1px, 1px, 1px, 1px);height: 1px;margin: -1px;overflow: hidden;padding: 0;position: absolute;width: 1px;}#sk-container-id-1 div.sk-estimator {font-family: monospace;background-color: #f0f8ff;border: 1px dotted black;border-radius: 0.25em;box-sizing: border-box;margin-bottom: 0.5em;}#sk-container-id-1 div.sk-estimator:hover {background-color: #d4ebff;}#sk-container-id-1 div.sk-parallel-item::after {content: \"\";width: 100%;border-bottom: 1px solid gray;flex-grow: 1;}#sk-container-id-1 div.sk-label:hover label.sk-toggleable__label {background-color: #d4ebff;}#sk-container-id-1 div.sk-serial::before {content: \"\";position: absolute;border-left: 1px solid gray;box-sizing: border-box;top: 0;bottom: 0;left: 50%;z-index: 0;}#sk-container-id-1 div.sk-serial {display: flex;flex-direction: column;align-items: center;background-color: white;padding-right: 0.2em;padding-left: 0.2em;position: relative;}#sk-container-id-1 div.sk-item {position: relative;z-index: 1;}#sk-container-id-1 div.sk-parallel {display: flex;align-items: stretch;justify-content: center;background-color: white;position: relative;}#sk-container-id-1 div.sk-item::before, #sk-container-id-1 div.sk-parallel-item::before {content: \"\";position: absolute;border-left: 1px solid gray;box-sizing: border-box;top: 0;bottom: 0;left: 50%;z-index: -1;}#sk-container-id-1 div.sk-parallel-item {display: flex;flex-direction: column;z-index: 1;position: relative;background-color: white;}#sk-container-id-1 div.sk-parallel-item:first-child::after {align-self: flex-end;width: 50%;}#sk-container-id-1 div.sk-parallel-item:last-child::after {align-self: flex-start;width: 50%;}#sk-container-id-1 div.sk-parallel-item:only-child::after {width: 0;}#sk-container-id-1 div.sk-dashed-wrapped {border: 1px dashed gray;margin: 0 0.4em 0.5em 0.4em;box-sizing: border-box;padding-bottom: 0.4em;background-color: white;}#sk-container-id-1 div.sk-label label {font-family: monospace;font-weight: bold;display: inline-block;line-height: 1.2em;}#sk-container-id-1 div.sk-label-container {text-align: center;}#sk-container-id-1 div.sk-container {/* jupyter's `normalize.less` sets `[hidden] { display: none; }` but bootstrap.min.css set `[hidden] { display: none !important; }` so we also need the `!important` here to be able to override the default hidden behavior on the sphinx rendered scikit-learn.org. See: https://github.com/scikit-learn/scikit-learn/issues/21755 */display: inline-block !important;position: relative;}#sk-container-id-1 div.sk-text-repr-fallback {display: none;}</style><div id=\"sk-container-id-1\" class=\"sk-top-container\"><div class=\"sk-text-repr-fallback\"><pre>LinearRegression()</pre><b>In a Jupyter environment, please rerun this cell to show the HTML representation or trust the notebook. <br />On GitHub, the HTML representation is unable to render, please try loading this page with nbviewer.org.</b></div><div class=\"sk-container\" hidden><div class=\"sk-item\"><div class=\"sk-estimator sk-toggleable\"><input class=\"sk-toggleable__control sk-hidden--visually\" id=\"sk-estimator-id-1\" type=\"checkbox\" checked><label for=\"sk-estimator-id-1\" class=\"sk-toggleable__label sk-toggleable__label-arrow\">LinearRegression</label><div class=\"sk-toggleable__content\"><pre>LinearRegression()</pre></div></div></div></div></div>"
      ],
      "text/plain": [
       "LinearRegression()"
      ]
     },
     "execution_count": 9,
     "metadata": {},
     "output_type": "execute_result"
    }
   ],
   "source": [
    "# Train and evaluate the train set using a linear regression\n",
    "lin_reg = LinearRegression()\n",
    "lin_reg.fit(X_train, y_train)"
   ]
  },
  {
   "cell_type": "code",
   "execution_count": 10,
   "id": "eb8d3a99",
   "metadata": {
    "execution": {
     "iopub.execute_input": "2025-01-18T22:59:48.784813Z",
     "iopub.status.busy": "2025-01-18T22:59:48.784438Z",
     "iopub.status.idle": "2025-01-18T22:59:48.792843Z",
     "shell.execute_reply": "2025-01-18T22:59:48.791680Z"
    },
    "papermill": {
     "duration": 0.017299,
     "end_time": "2025-01-18T22:59:48.794577",
     "exception": false,
     "start_time": "2025-01-18T22:59:48.777278",
     "status": "completed"
    },
    "tags": []
   },
   "outputs": [
    {
     "name": "stdout",
     "output_type": "stream",
     "text": [
      "Predicted weight for height 1.65: 62.093525763793856\n"
     ]
    },
    {
     "name": "stderr",
     "output_type": "stream",
     "text": [
      "/usr/local/lib/python3.10/dist-packages/sklearn/base.py:439: UserWarning: X does not have valid feature names, but LinearRegression was fitted with feature names\n",
      "  warnings.warn(\n"
     ]
    }
   ],
   "source": [
    "# Make a prediction for weight when height = 1.65 using the trained linear regression.\n",
    "height_input = 1.65  # Replace with the desired height value\n",
    "height_input_reshaped = np.array([[height_input]]) # Reshape to a 2D array\n",
    "predicted_weight = lin_reg.predict(height_input_reshaped)\n",
    "\n",
    "print(f\"Predicted weight for height {height_input}: {predicted_weight[0][0]}\") # Access the predicted value"
   ]
  },
  {
   "cell_type": "markdown",
   "id": "6d29602f",
   "metadata": {
    "papermill": {
     "duration": 0.005764,
     "end_time": "2025-01-18T22:59:48.806732",
     "exception": false,
     "start_time": "2025-01-18T22:59:48.800968",
     "status": "completed"
    },
    "tags": []
   },
   "source": [
    "**IV. CALCULATE THE ROOT MEAN SQUARE ERROR (RMSE) USING THE TEST SET**\n",
    "\n",
    "After training the model, we should check how accuracy our model could be. By comparing the RMSE, you will also find out if this model is the most suitable for your purpose. Otherwise, you should change to another model (For example, K-nearest neighbors)."
   ]
  },
  {
   "cell_type": "code",
   "execution_count": 11,
   "id": "b46a8fb9",
   "metadata": {
    "execution": {
     "iopub.execute_input": "2025-01-18T22:59:48.820456Z",
     "iopub.status.busy": "2025-01-18T22:59:48.820095Z",
     "iopub.status.idle": "2025-01-18T22:59:48.827721Z",
     "shell.execute_reply": "2025-01-18T22:59:48.826532Z"
    },
    "papermill": {
     "duration": 0.016581,
     "end_time": "2025-01-18T22:59:48.829498",
     "exception": false,
     "start_time": "2025-01-18T22:59:48.812917",
     "status": "completed"
    },
    "tags": []
   },
   "outputs": [
    {
     "name": "stdout",
     "output_type": "stream",
     "text": [
      "The RSME of the linear regression is: 0.5062940333533222\n"
     ]
    }
   ],
   "source": [
    "# Calculate RMSE of linear regression model using the test set\n",
    "y_pred_lin = lin_reg.predict(X_test) # predict charges\n",
    "lin_mse = mean_squared_error(y_pred_lin, y_test) # calculate mean squared error\n",
    "lin_rmse = np.sqrt(lin_mse) # calculate rmse\n",
    "print(f\"The RSME of the linear regression is: {lin_rmse}\")"
   ]
  },
  {
   "cell_type": "code",
   "execution_count": 12,
   "id": "ad0d13bf",
   "metadata": {
    "execution": {
     "iopub.execute_input": "2025-01-18T22:59:48.843458Z",
     "iopub.status.busy": "2025-01-18T22:59:48.843108Z",
     "iopub.status.idle": "2025-01-18T22:59:48.847318Z",
     "shell.execute_reply": "2025-01-18T22:59:48.846336Z"
    },
    "papermill": {
     "duration": 0.012972,
     "end_time": "2025-01-18T22:59:48.848861",
     "exception": false,
     "start_time": "2025-01-18T22:59:48.835889",
     "status": "completed"
    },
    "tags": []
   },
   "outputs": [],
   "source": [
    "# Replace the linear regression with k-nearest neighbors regression\n",
    "model_kn = KNeighborsRegressor(n_neighbors = 5)"
   ]
  },
  {
   "cell_type": "code",
   "execution_count": 13,
   "id": "1c12e3ed",
   "metadata": {
    "execution": {
     "iopub.execute_input": "2025-01-18T22:59:48.862885Z",
     "iopub.status.busy": "2025-01-18T22:59:48.862492Z",
     "iopub.status.idle": "2025-01-18T22:59:48.871273Z",
     "shell.execute_reply": "2025-01-18T22:59:48.870176Z"
    },
    "papermill": {
     "duration": 0.017864,
     "end_time": "2025-01-18T22:59:48.873134",
     "exception": false,
     "start_time": "2025-01-18T22:59:48.855270",
     "status": "completed"
    },
    "tags": []
   },
   "outputs": [
    {
     "data": {
      "text/html": [
       "<style>#sk-container-id-2 {color: black;background-color: white;}#sk-container-id-2 pre{padding: 0;}#sk-container-id-2 div.sk-toggleable {background-color: white;}#sk-container-id-2 label.sk-toggleable__label {cursor: pointer;display: block;width: 100%;margin-bottom: 0;padding: 0.3em;box-sizing: border-box;text-align: center;}#sk-container-id-2 label.sk-toggleable__label-arrow:before {content: \"▸\";float: left;margin-right: 0.25em;color: #696969;}#sk-container-id-2 label.sk-toggleable__label-arrow:hover:before {color: black;}#sk-container-id-2 div.sk-estimator:hover label.sk-toggleable__label-arrow:before {color: black;}#sk-container-id-2 div.sk-toggleable__content {max-height: 0;max-width: 0;overflow: hidden;text-align: left;background-color: #f0f8ff;}#sk-container-id-2 div.sk-toggleable__content pre {margin: 0.2em;color: black;border-radius: 0.25em;background-color: #f0f8ff;}#sk-container-id-2 input.sk-toggleable__control:checked~div.sk-toggleable__content {max-height: 200px;max-width: 100%;overflow: auto;}#sk-container-id-2 input.sk-toggleable__control:checked~label.sk-toggleable__label-arrow:before {content: \"▾\";}#sk-container-id-2 div.sk-estimator input.sk-toggleable__control:checked~label.sk-toggleable__label {background-color: #d4ebff;}#sk-container-id-2 div.sk-label input.sk-toggleable__control:checked~label.sk-toggleable__label {background-color: #d4ebff;}#sk-container-id-2 input.sk-hidden--visually {border: 0;clip: rect(1px 1px 1px 1px);clip: rect(1px, 1px, 1px, 1px);height: 1px;margin: -1px;overflow: hidden;padding: 0;position: absolute;width: 1px;}#sk-container-id-2 div.sk-estimator {font-family: monospace;background-color: #f0f8ff;border: 1px dotted black;border-radius: 0.25em;box-sizing: border-box;margin-bottom: 0.5em;}#sk-container-id-2 div.sk-estimator:hover {background-color: #d4ebff;}#sk-container-id-2 div.sk-parallel-item::after {content: \"\";width: 100%;border-bottom: 1px solid gray;flex-grow: 1;}#sk-container-id-2 div.sk-label:hover label.sk-toggleable__label {background-color: #d4ebff;}#sk-container-id-2 div.sk-serial::before {content: \"\";position: absolute;border-left: 1px solid gray;box-sizing: border-box;top: 0;bottom: 0;left: 50%;z-index: 0;}#sk-container-id-2 div.sk-serial {display: flex;flex-direction: column;align-items: center;background-color: white;padding-right: 0.2em;padding-left: 0.2em;position: relative;}#sk-container-id-2 div.sk-item {position: relative;z-index: 1;}#sk-container-id-2 div.sk-parallel {display: flex;align-items: stretch;justify-content: center;background-color: white;position: relative;}#sk-container-id-2 div.sk-item::before, #sk-container-id-2 div.sk-parallel-item::before {content: \"\";position: absolute;border-left: 1px solid gray;box-sizing: border-box;top: 0;bottom: 0;left: 50%;z-index: -1;}#sk-container-id-2 div.sk-parallel-item {display: flex;flex-direction: column;z-index: 1;position: relative;background-color: white;}#sk-container-id-2 div.sk-parallel-item:first-child::after {align-self: flex-end;width: 50%;}#sk-container-id-2 div.sk-parallel-item:last-child::after {align-self: flex-start;width: 50%;}#sk-container-id-2 div.sk-parallel-item:only-child::after {width: 0;}#sk-container-id-2 div.sk-dashed-wrapped {border: 1px dashed gray;margin: 0 0.4em 0.5em 0.4em;box-sizing: border-box;padding-bottom: 0.4em;background-color: white;}#sk-container-id-2 div.sk-label label {font-family: monospace;font-weight: bold;display: inline-block;line-height: 1.2em;}#sk-container-id-2 div.sk-label-container {text-align: center;}#sk-container-id-2 div.sk-container {/* jupyter's `normalize.less` sets `[hidden] { display: none; }` but bootstrap.min.css set `[hidden] { display: none !important; }` so we also need the `!important` here to be able to override the default hidden behavior on the sphinx rendered scikit-learn.org. See: https://github.com/scikit-learn/scikit-learn/issues/21755 */display: inline-block !important;position: relative;}#sk-container-id-2 div.sk-text-repr-fallback {display: none;}</style><div id=\"sk-container-id-2\" class=\"sk-top-container\"><div class=\"sk-text-repr-fallback\"><pre>KNeighborsRegressor()</pre><b>In a Jupyter environment, please rerun this cell to show the HTML representation or trust the notebook. <br />On GitHub, the HTML representation is unable to render, please try loading this page with nbviewer.org.</b></div><div class=\"sk-container\" hidden><div class=\"sk-item\"><div class=\"sk-estimator sk-toggleable\"><input class=\"sk-toggleable__control sk-hidden--visually\" id=\"sk-estimator-id-2\" type=\"checkbox\" checked><label for=\"sk-estimator-id-2\" class=\"sk-toggleable__label sk-toggleable__label-arrow\">KNeighborsRegressor</label><div class=\"sk-toggleable__content\"><pre>KNeighborsRegressor()</pre></div></div></div></div></div>"
      ],
      "text/plain": [
       "KNeighborsRegressor()"
      ]
     },
     "execution_count": 13,
     "metadata": {},
     "output_type": "execute_result"
    }
   ],
   "source": [
    "# Train and evaluate the train set using a KNN regression\n",
    "model_kn.fit(X_train, y_train)"
   ]
  },
  {
   "cell_type": "code",
   "execution_count": 14,
   "id": "9873012b",
   "metadata": {
    "execution": {
     "iopub.execute_input": "2025-01-18T22:59:48.887891Z",
     "iopub.status.busy": "2025-01-18T22:59:48.887552Z",
     "iopub.status.idle": "2025-01-18T22:59:48.895644Z",
     "shell.execute_reply": "2025-01-18T22:59:48.894260Z"
    },
    "papermill": {
     "duration": 0.017139,
     "end_time": "2025-01-18T22:59:48.897306",
     "exception": false,
     "start_time": "2025-01-18T22:59:48.880167",
     "status": "completed"
    },
    "tags": []
   },
   "outputs": [
    {
     "name": "stdout",
     "output_type": "stream",
     "text": [
      "The RSME of the KNN regression is: 0.8139287438099235\n"
     ]
    }
   ],
   "source": [
    "# Calculate RMSE of KNN regression model using the test set\n",
    "y_pred_knn = model_kn.predict(X_test) # predict charges\n",
    "knn_mse = mean_squared_error(y_pred_knn, y_test) # calculate mean squared error\n",
    "knn_rmse = np.sqrt(knn_mse) # calculate rmse\n",
    "print(f\"The RSME of the KNN regression is: {knn_rmse}\")"
   ]
  },
  {
   "cell_type": "markdown",
   "id": "3162e0a8",
   "metadata": {
    "papermill": {
     "duration": 0.006134,
     "end_time": "2025-01-18T22:59:48.910004",
     "exception": false,
     "start_time": "2025-01-18T22:59:48.903870",
     "status": "completed"
    },
    "tags": []
   },
   "source": [
    "We see that the RMSE of our linear regression model is lower than of our KNN model, which means that the linear regression model is more efficient in predicting future values. That's the end of this project."
   ]
  }
 ],
 "metadata": {
  "kaggle": {
   "accelerator": "none",
   "dataSources": [
    {
     "datasetId": 8834,
     "sourceId": 12327,
     "sourceType": "datasetVersion"
    }
   ],
   "dockerImageVersionId": 30839,
   "isGpuEnabled": false,
   "isInternetEnabled": true,
   "language": "python",
   "sourceType": "notebook"
  },
  "kernelspec": {
   "display_name": "Python 3",
   "language": "python",
   "name": "python3"
  },
  "language_info": {
   "codemirror_mode": {
    "name": "ipython",
    "version": 3
   },
   "file_extension": ".py",
   "mimetype": "text/x-python",
   "name": "python",
   "nbconvert_exporter": "python",
   "pygments_lexer": "ipython3",
   "version": "3.10.12"
  },
  "papermill": {
   "default_parameters": {},
   "duration": 7.151052,
   "end_time": "2025-01-18T22:59:49.637168",
   "environment_variables": {},
   "exception": null,
   "input_path": "__notebook__.ipynb",
   "output_path": "__notebook__.ipynb",
   "parameters": {},
   "start_time": "2025-01-18T22:59:42.486116",
   "version": "2.6.0"
  }
 },
 "nbformat": 4,
 "nbformat_minor": 5
}
